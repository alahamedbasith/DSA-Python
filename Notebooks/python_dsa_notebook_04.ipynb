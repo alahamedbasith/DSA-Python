{
 "cells": [
  {
   "cell_type": "markdown",
   "id": "fdbce5dd",
   "metadata": {},
   "source": [
    "# 4.Searching Algorithms\n",
    "- Linear Search\n",
    "- Binary Search"
   ]
  },
  {
   "cell_type": "markdown",
   "id": "a21a4fde",
   "metadata": {},
   "source": [
    "## Linear Search\n",
    "Linear search is a simple search algorithm used to find the position of a target value within an array or list. It sequentially checks each element of the array until a match is found or until all elements have been checked. \n",
    "\n",
    "Here's a step-by-step explanation of how linear search works:\n",
    "\n",
    "1. Start from the first element (index 0) of the array.\n",
    "2. Compare the target value with the current element.\n",
    "3. If the target value matches the current element, return the index of the current element.\n",
    "4. If the target value does not match the current element, move to the next element in the array and repeat steps 2-3.\n",
    "5. Continue this process until either the target value is found or the end of the array is reached.\n",
    "6. If the target value is not found in the array, return a special value (such as -1) to indicate that the target value is not present.\n",
    "\n",
    "Linear search is straightforward and easy to implement, but it may not be the most efficient algorithm for large arrays, especially when compared to more advanced search algorithms like binary search. The time complexity of linear search is O(n), where n is the number of elements in the array, because it may have to examine each element in the worst case scenario."
   ]
  },
  {
   "cell_type": "code",
   "execution_count": 1,
   "id": "6bff9380",
   "metadata": {},
   "outputs": [
    {
     "name": "stdout",
     "output_type": "stream",
     "text": [
      "2\n"
     ]
    }
   ],
   "source": [
    "# Search the element, If found return index\n",
    "arr = [1,2,3,4,5]\n",
    "search_element = 3\n",
    "\n",
    "for i in range(0,len(arr)):\n",
    "    if arr[i] == search_element:\n",
    "        print(i)\n",
    "        break"
   ]
  },
  {
   "cell_type": "code",
   "execution_count": 2,
   "id": "39dd0ef1",
   "metadata": {},
   "outputs": [
    {
     "name": "stdout",
     "output_type": "stream",
     "text": [
      "-1\n"
     ]
    }
   ],
   "source": [
    "# Search the element, If not found return -1\n",
    "\n",
    "arr = [1,2,3,4,5]\n",
    "search_element = 10\n",
    "\n",
    "for i in range(0,len(arr)):\n",
    "    if arr[i] == search_element:\n",
    "        print(i)\n",
    "        break\n",
    "else:\n",
    "    print(-1)"
   ]
  },
  {
   "cell_type": "code",
   "execution_count": 3,
   "id": "a2fb1e2f",
   "metadata": {},
   "outputs": [
    {
     "name": "stdout",
     "output_type": "stream",
     "text": [
      "Yes\n"
     ]
    }
   ],
   "source": [
    "# Search the element, If found means yes, otherwise no\n",
    "# Search the element, If found return index\n",
    "arr = [1,2,3,4,5] # arr space does not include space complexity because of arr is already given\n",
    "search_element = 3\n",
    "\n",
    "for i in arr:\n",
    "    if i == search_element:\n",
    "        print(\"Yes\")\n",
    "        break\n",
    "else:\n",
    "    print(\"No\")"
   ]
  },
  {
   "cell_type": "markdown",
   "id": "8c37b496",
   "metadata": {},
   "source": [
    "#### Time Complexity:\n",
    "The time complexity of linear search is O(n), where n is the number of elements in the array.\n",
    "\n",
    "In a linear search:\n",
    "\n",
    "- Each element in the array is visited once, sequentially, to determine whether it matches the target element.\n",
    "- In the worst-case scenario, the target element may be located at the end of the array, or it may not be present at all. In such cases, the algorithm would need to examine all n elements before determining that the target element is not present.\n",
    "- Therefore, the time complexity of linear search is directly proportional to the size of the input array, resulting in a linear time complexity of O(n).\n",
    "\n",
    "While linear search is straightforward and easy to implement, its time complexity makes it less efficient compared to other search algorithms such as binary search, particularly for large arrays."
   ]
  },
  {
   "cell_type": "markdown",
   "id": "c40912f2",
   "metadata": {},
   "source": [
    "#### Space Complexity:\n",
    "The space complexity of linear search is O(1), which means it requires constant space regardless of the size of the input array.\n",
    "\n",
    "In a linear search:\n",
    "\n",
    "- Only a few extra variables are used, such as loop counters and temporary storage for the target element.\n",
    "- These variables have fixed memory requirements and do not depend on the size of the input array.\n",
    "- No additional data structures are created during the execution of the linear search algorithm.\n",
    "\n",
    "Therefore, the space complexity remains constant, or O(1), indicating that the amount of memory used by the algorithm does not increase with the size of the input array."
   ]
  },
  {
   "cell_type": "markdown",
   "id": "e07a3c85",
   "metadata": {},
   "source": [
    "## Binary Search\n",
    "Binary search is a fast search algorithm used to find the position of a target value within a sorted array or list. The idea behind binary search is to repeatedly divide the search interval in half until the target value is found or the interval becomes empty.\n",
    "\n",
    "Here's a step-by-step explanation of how binary search works:\n",
    "\n",
    "1. **Initialize:** Start with the entire sorted array.\n",
    "2. **Define bounds:** Set two pointers, `low` and `high`, to the beginning and end of the array respectively.\n",
    "3. **Find the middle:** Calculate the middle index as `mid = (low + high) // 2`.\n",
    "4. **Check the middle element:** Compare the middle element of the array with the target value.\n",
    "   - If the middle element is equal to the target, return its index.\n",
    "   - If the middle element is greater than the target, set `high = mid - 1` to search in the left half.\n",
    "   - If the middle element is less than the target, set `low = mid + 1` to search in the right half.\n",
    "5. **Repeat:** Continue this process, narrowing the search interval in half each time, until the target value is found or the interval becomes empty.\n",
    "6. **Termination:** If the target value is not found after the entire array has been searched, return a special value (such as -1) to indicate that the target value is not present.\n",
    "\n",
    "Binary search is significantly more efficient than linear search, especially for large arrays, because it divides the search space in half with each comparison. The time complexity of binary search is O(log n), where n is the number of elements in the array, because the search interval is halved in each iteration, leading to a logarithmic time complexity. However, it requires the array to be sorted beforehand."
   ]
  },
  {
   "cell_type": "code",
   "execution_count": 4,
   "id": "78378b75",
   "metadata": {},
   "outputs": [
    {
     "name": "stdout",
     "output_type": "stream",
     "text": [
      "4\n"
     ]
    }
   ],
   "source": [
    "def binary_search(nums, target):\n",
    "    low = 0\n",
    "    high = len(nums)-1\n",
    "\n",
    "    while low <= high:\n",
    "        mid = (low + high) // 2\n",
    "\n",
    "        if target == nums[mid]:\n",
    "            return mid\n",
    "        elif target > nums[mid]:\n",
    "            low = mid + 1\n",
    "        elif target < nums[mid]:\n",
    "            high = mid - 1 \n",
    "\n",
    "    return -1\n",
    "\n",
    "nums = [-1, 0, 3, 5, 9, 12]\n",
    "target = 9\n",
    "print(binary_search(nums, target))"
   ]
  },
  {
   "cell_type": "markdown",
   "id": "db63cf2a",
   "metadata": {},
   "source": [
    "#### Time Complexity\n",
    "The time complexity of binary search is O(log n), where n is the number of elements in the sorted array.\n",
    "\n",
    "Binary search operates by continuously dividing the search interval in half. In each iteration, it discards half of the elements from consideration based on a comparison with the target value. This halving of the search space results in a logarithmic time complexity.\n",
    "\n",
    "To understand this more clearly:\n",
    "\n",
    "- In the first iteration, the algorithm checks the middle element of the array.\n",
    "- If the target is not found, it determines which half of the array to search in next (either the left or right half).\n",
    "- In each subsequent iteration, the search space is halved.\n",
    "\n",
    "Because binary search reduces the search space by half in each iteration, the number of elements left to search decreases exponentially. This logarithmic reduction in the search space results in a time complexity of O(log n), making binary search highly efficient for large sorted arrays.\n",
    "\n",
    "The above program have two operation happens (two split),\n",
    "So, O(log(n)) => O(log(input size)) => O(log(6)) => O()"
   ]
  },
  {
   "cell_type": "markdown",
   "id": "f6369d4d",
   "metadata": {},
   "source": [
    "#### Space Complexity:\n",
    "The space complexity of the binary search algorithm is O(1), which means it requires constant space, regardless of the size of the input array.\n",
    "\n",
    "In binary search, the space usage does not depend on the size of the input array. The algorithm only uses a few extra variables such as low, high, and mid to keep track of the search range and the middle element. These variables are just integer values and do not scale with the size of the input array.\n",
    "\n",
    "No additional data structures like arrays or lists are created during the execution of the binary search algorithm. Therefore, the space complexity remains constant, or O(1), indicating that the amount of memory used by the algorithm does not increase with the size of the input."
   ]
  },
  {
   "cell_type": "markdown",
   "id": "aac3afa6",
   "metadata": {},
   "source": [
    "#### Prepared By,\n",
    "Ahamed Basith"
   ]
  },
  {
   "cell_type": "code",
   "execution_count": null,
   "id": "54e98d28",
   "metadata": {},
   "outputs": [],
   "source": []
  }
 ],
 "metadata": {
  "kernelspec": {
   "display_name": "Python 3 (ipykernel)",
   "language": "python",
   "name": "python3"
  },
  "language_info": {
   "codemirror_mode": {
    "name": "ipython",
    "version": 3
   },
   "file_extension": ".py",
   "mimetype": "text/x-python",
   "name": "python",
   "nbconvert_exporter": "python",
   "pygments_lexer": "ipython3",
   "version": "3.11.5"
  }
 },
 "nbformat": 4,
 "nbformat_minor": 5
}
