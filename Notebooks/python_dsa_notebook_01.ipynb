{
 "cells": [
  {
   "cell_type": "markdown",
   "id": "41957d1a",
   "metadata": {},
   "source": [
    "# 1.Complexity Analysis of Algorithm"
   ]
  },
  {
   "cell_type": "markdown",
   "id": "a4e1c21e",
   "metadata": {},
   "source": [
    "## Complexity Analysis of an Algorithm\n",
    "\n",
    "Complexity analysis of an algorithm involves evaluating its performance in terms of time and space requirements. This analysis helps in understanding how the algorithm's execution time and memory usage scale with input size. There are two main aspects of complexity analysis: time complexity and space complexity.\n",
    "\n",
    "### Time Complexity:\n",
    "\n",
    "Time complexity describes the amount of time an algorithm takes to complete as a function of the size of its input. It helps us understand how the algorithm behaves as the input size grows. Time complexity is usually expressed using Big O notation.\n",
    "\n",
    "Common time complexities include:\n",
    "\n",
    "- O(1) - Constant time complexity: The algorithm's runtime does not depend on the size of the input.\n",
    "- O(log n) - Logarithmic time complexity: The algorithm's runtime grows logarithmically with the size of the input.\n",
    "- O(n) - Linear time complexity: The algorithm's runtime grows linearly with the size of the input.\n",
    "- O(n log n) - Log-linear time complexity: Common in many efficient sorting algorithms like Merge Sort and Quick Sort.\n",
    "- O(n^2), O(n^3), ... - Polynomial time complexity: The algorithm's runtime grows quadratically, cubically, etc., with the size of the input.\n",
    "- O(2^n) - Exponential time complexity: The algorithm's runtime doubles with each addition to the input size.\n",
    "\n",
    "### Space Complexity:\n",
    "\n",
    "Space complexity refers to the amount of memory space an algorithm requires to execute as a function of the size of its input. It helps us understand how much memory the algorithm needs as the input size grows. Space complexity is also usually expressed using Big O notation.\n",
    "\n",
    "Common space complexities include:\n",
    "\n",
    "- O(1) - Constant space complexity: The algorithm uses a fixed amount of memory that does not depend on the input size.\n",
    "- O(n) - Linear space complexity: The algorithm's memory usage grows linearly with the size of the input.\n",
    "- O(n^2), O(n^3), ... - Polynomial space complexity: The algorithm's memory usage grows quadratically, cubically, etc., with the size of the input.\n",
    "\n",
    "To analyze the complexity of an algorithm, you typically:\n",
    "\n",
    "1. Identify the basic operations performed by the algorithm.\n",
    "2. Determine how the number of these operations varies with the size of the input.\n",
    "3. Express the relationship using Big O notation.\n",
    "\n",
    "It's important to note that complexity analysis provides an understanding of an algorithm's behavior in the abstract and might not precisely predict its runtime or memory usage on a specific machine due to factors like hardware, compiler optimizations, and input data distribution. However, it gives valuable insights into how the algorithm scales and helps in choosing the right algorithm for a given problem.\n"
   ]
  },
  {
   "cell_type": "markdown",
   "id": "e754b518",
   "metadata": {},
   "source": [
    "## Time Complexity\n",
    "### 1.Constant Time Complexity - O(1) \n",
    "In constant time complexity, the runtime of the algorithm remains constant regardless of the size of the input."
   ]
  },
  {
   "cell_type": "code",
   "execution_count": 1,
   "id": "0d90c572",
   "metadata": {},
   "outputs": [
    {
     "name": "stdout",
     "output_type": "stream",
     "text": [
      "1\n"
     ]
    }
   ],
   "source": [
    "def constant_example(array):\n",
    "    return array[0]\n",
    "\n",
    "array = [1, 2, 3, 4, 5]\n",
    "print(constant_example(array))  # Output will always be 1, regardless of the size of the input array."
   ]
  },
  {
   "cell_type": "markdown",
   "id": "f22211d4",
   "metadata": {},
   "source": [
    "#### Explanation: \n",
    "In this example, the function constant_example always returns the first element of the input array array. Regardless of how big the array is, it only accesses the first element, so its runtime is constant."
   ]
  },
  {
   "cell_type": "markdown",
   "id": "4dec1100",
   "metadata": {},
   "source": [
    "### 2.Logarithmic Time Complexity - O(log n) \n",
    "In logarithmic time complexity, the runtime grows logarithmically with the size of the input."
   ]
  },
  {
   "cell_type": "code",
   "execution_count": 2,
   "id": "da77b1a3",
   "metadata": {},
   "outputs": [
    {
     "name": "stdout",
     "output_type": "stream",
     "text": [
      "4\n"
     ]
    }
   ],
   "source": [
    "def binary_search(array, target):\n",
    "    low = 0\n",
    "    high = len(array) - 1\n",
    "\n",
    "    while low <= high:\n",
    "        mid = (low + high) // 2\n",
    "        if array[mid] == target:\n",
    "            return mid\n",
    "        elif array[mid] < target:\n",
    "            low = mid + 1\n",
    "        else:\n",
    "            high = mid - 1\n",
    "\n",
    "    return -1\n",
    "\n",
    "array = [1, 2, 3, 4, 5, 6, 7, 8, 9, 10]\n",
    "\n",
    "target = 5\n",
    "print(binary_search(array, target))  # Output: Index of target (4 in this case)"
   ]
  },
  {
   "cell_type": "markdown",
   "id": "1fc2dd6a",
   "metadata": {},
   "source": [
    "#### Explanation: \n",
    "In this example, we perform a binary search on a sorted array. With each iteration, we reduce the search space by half. Thus, even as the size of the input array grows, the number of iterations needed doesn't grow proportionally. This results in logarithmic time complexity."
   ]
  },
  {
   "cell_type": "markdown",
   "id": "a4b1862a",
   "metadata": {},
   "source": [
    "### 3.Linear Time Complexity - O(n)\n",
    "In linear time complexity, the runtime grows linearly with the size of the input."
   ]
  },
  {
   "cell_type": "code",
   "execution_count": 3,
   "id": "49a2aa86",
   "metadata": {},
   "outputs": [
    {
     "name": "stdout",
     "output_type": "stream",
     "text": [
      "1\n",
      "2\n",
      "3\n",
      "4\n",
      "5\n"
     ]
    }
   ],
   "source": [
    "def linear_example(array):\n",
    "    for num in array:\n",
    "        print(num)\n",
    "\n",
    "array = [1, 2, 3, 4, 5]\n",
    "linear_example(array)  # Output: Prints each element of the array once"
   ]
  },
  {
   "cell_type": "markdown",
   "id": "df79a4da",
   "metadata": {},
   "source": [
    "### 4.Log-linear Time Complexity - O(n log n)\n",
    "This complexity is common in efficient sorting algorithms like Merge Sort and Quick Sort."
   ]
  },
  {
   "cell_type": "code",
   "execution_count": 4,
   "id": "8410011b",
   "metadata": {},
   "outputs": [],
   "source": [
    "def merge_sort(array):\n",
    "    if len(array) <= 1:\n",
    "        return array\n",
    "\n",
    "    mid = len(array) // 2\n",
    "    left_half = merge_sort(array[:mid]) # 3,1,4,1 # left-3,1 right-4,1  # leftleft-3 leftright - 1\n",
    "    right_half = merge_sort(array[mid:]) # 5,9,2,6,5\n",
    "\n",
    "    return merge(left_half, right_half)\n",
    "\n",
    "def merge(left, right):\n",
    "    result = []\n",
    "    left_idx, right_idx = 0, 0\n",
    "\n",
    "    while left_idx < len(left) and right_idx < len(right):\n",
    "        if left[left_idx] < right[right_idx]:\n",
    "            result.append(left[left_idx])\n",
    "            left_idx += 1\n",
    "        else:\n",
    "            result.append(right[right_idx])\n",
    "            right_idx += 1\n",
    "\n",
    "    result.extend(left[left_idx:])\n",
    "    result.extend(right[right_idx:])\n",
    "    return result\n"
   ]
  },
  {
   "cell_type": "raw",
   "id": "8bc1982a",
   "metadata": {},
   "source": [
    "1st iteration:\n",
    "    left_half = merge_sort(array[:mid]) # 3,1,4,1\n",
    "2nd iteration:\n",
    "    left_half = merge_sort(array[:mid]) # 3,1,4,1   # 3,1 \n",
    "    right_half = merge_sort(array[mid:]) # 3,1,4,1   # 4,1 \n",
    "3rd iteration:\n",
    "    left_half = merge_sort(array[:mid]) # 3,1,4,1   # 3,1  # 3\n",
    "     left of right_half = merge_sort(array[:mid]) # 3,1,4,1   # 3,1  # 1\n"
   ]
  },
  {
   "cell_type": "markdown",
   "id": "32a45c19",
   "metadata": {},
   "source": [
    "## Space Complexity\n",
    "Space complexity is a measure of the amount of memory an algorithm needs to run to completion. It considers both the memory needed for the algorithm's variables and the additional memory required by the data structures it uses. In Python, space complexity can be influenced by variables, data structures like lists, dictionaries, and sets, as well as recursion.\n",
    "\n",
    "Here's a simple example to illustrate space complexity:\n",
    "\n",
    "### Example: Calculating the Sum of a List\n",
    "\n",
    "Let's consider a function that calculates the sum of a list of numbers.\n",
    "\n",
    "```python\n",
    "def sum_list(numbers):\n",
    "    total = 0  # O(1) space\n",
    "    for number in numbers:\n",
    "        total += number\n",
    "    return total\n",
    "```\n",
    "\n",
    "#### Analysis of Space Complexity:\n",
    "1. **Input Space**: The input `numbers` list itself takes \\(O(n)\\) space, where \\(n\\) is the number of elements in the list.\n",
    "2. **Auxiliary Space**: The variable `total` takes \\(O(1)\\) space since it is a single integer variable.\n",
    "\n",
    "Therefore, the **space complexity** of this function is \\(O(1)\\) if we only consider auxiliary space, and \\(O(n)\\) if we include the input space.\n",
    "\n",
    "### Example: Recursive Function to Calculate Factorial\n",
    "\n",
    "Now, let's consider a recursive function to calculate the factorial of a number.\n",
    "\n",
    "```python\n",
    "def factorial(n):\n",
    "    if n == 0:\n",
    "        return 1\n",
    "    else:\n",
    "        return n * factorial(n - 1)\n",
    "```\n",
    "\n",
    "#### Analysis of Space Complexity:\n",
    "1. **Input Space**: The input `n` is a single integer, so it takes \\(O(1)\\) space.\n",
    "2. **Auxiliary Space**: The function uses the call stack for recursion. Each function call adds a new frame to the call stack. In the worst case, the function will recurse \\(n\\) times, so it uses \\(O(n)\\) space for the call stack.\n",
    "\n",
    "Therefore, the **space complexity** of this recursive function is \\(O(n)\\) due to the recursive call stack.\n",
    "\n",
    "### Example: Using a List to Store Intermediate Results\n",
    "\n",
    "Consider a function that stores intermediate results in a list to calculate the Fibonacci sequence up to the nth number.\n",
    "\n",
    "```python\n",
    "def fibonacci(n):\n",
    "    fib = [0, 1]  # O(1) space\n",
    "    for i in range(2, n + 1):\n",
    "        fib.append(fib[-1] + fib[-2])  # O(1) space per append operation\n",
    "    return fib[n]\n",
    "```\n",
    "\n",
    "#### Analysis of Space Complexity:\n",
    "1. **Input Space**: The input `n` is a single integer, so it takes \\(O(1)\\) space.\n",
    "2. **Auxiliary Space**: The list `fib` will store \\(n + 1\\) Fibonacci numbers, so it takes \\(O(n)\\) space.\n",
    "\n",
    "Therefore, the **space complexity** of this function is \\(O(n)\\).\n",
    "\n",
    "### Summary\n",
    "\n",
    "- **Constant Space Complexity \\(O(1)\\)**: The algorithm's space requirement is fixed and does not grow with the input size. Example: `sum_list` function.\n",
    "- **Linear Space Complexity \\(O(n)\\)**: The algorithm's space requirement grows linearly with the input size. Examples: recursive `factorial` function and `fibonacci` function storing intermediate results.\n",
    "\n",
    "Understanding space complexity helps in designing algorithms that are efficient in terms of memory usage, which is crucial for handling large data sets and optimizing performance."
   ]
  },
  {
   "cell_type": "markdown",
   "id": "f2e47eb8",
   "metadata": {},
   "source": [
    "All time and space complexity for each data structure and algorithms are explained in upcoming notebooks"
   ]
  },
  {
   "cell_type": "markdown",
   "id": "99f5c600",
   "metadata": {},
   "source": [
    "## Best,Worst and Average Cases\n",
    "### Best Case Complexity\n",
    "\n",
    "The **best case complexity** of an algorithm is the minimum amount of resources (time, space, etc.) required to execute the algorithm for any input size. It represents the scenario where the algorithm performs most efficiently. However, it's often less informative than other cases because it may not reflect typical real-world scenarios.\n",
    "\n",
    "For example, consider a simple algorithm to find the minimum element in an array:\n",
    "```python\n",
    "def find_min(arr):\n",
    "    min_element = float('inf')  # Assume positive infinity\n",
    "    for num in arr:\n",
    "        if num < min_element:\n",
    "            min_element = num\n",
    "    return min_element\n",
    "```\n",
    "- **Best Case**: \\( O(1) \\) - This occurs when the minimum element is the first element of the array.\n",
    "\n",
    "\n",
    "### worst-case complexity\n",
    "An algorithm is the scenario where the algorithm takes the maximum amount of resources (time, space, etc.) to execute for a given input size. It represents the least efficient performance of the algorithm.\n",
    "\n",
    "#### Example of Worst-Case Complexity:\n",
    "\n",
    "Let's consider the worst-case scenario for a sorting algorithm like **Bubble Sort**, which has a worst-case time complexity of \\( O(n^2) \\).\n",
    "\n",
    "```python\n",
    "def bubble_sort(arr):\n",
    "    n = len(arr)\n",
    "    for i in range(n):\n",
    "        swapped = False\n",
    "        for j in range(0, n-i-1):\n",
    "            if arr[j] > arr[j+1]:\n",
    "                arr[j], arr[j+1] = arr[j+1], arr[j]\n",
    "                swapped = True\n",
    "        if not swapped:\n",
    "            break\n",
    "    return arr\n",
    "```\n",
    "\n",
    "- **Worst Case**: \\( O(n^2) \\) - This occurs when the array is sorted in reverse order, so each element needs to \"bubble up\" to its correct position by swapping with every preceding element.\n",
    "\n",
    "In this worst-case scenario:\n",
    "- The outer loop runs \\( n \\) times (where \\( n \\) is the number of elements in the array).\n",
    "- The inner loop runs approximately \\( n \\) times in the first iteration, \\( n-1 \\) times in the second iteration, and so on, resulting in a total of \\( \\frac{n(n-1)}{2} \\) comparisons and swaps.\n",
    "\n",
    "Therefore, the overall time complexity in the worst case is \\( O(n^2) \\), which indicates that the algorithm's performance deteriorates as the input size \\( n \\) increases, making it less efficient for large datasets compared to algorithms with better worst-case complexities like \\( O(n \\log n) \\).\n",
    "\n",
    "Understanding worst-case complexity is crucial for assessing the algorithm's reliability in real-world applications, especially when dealing with large or unpredictable input sizes. It helps in making informed decisions about algorithm selection and optimization strategies.\n",
    "\n",
    "\n",
    "### Average-case complexity \n",
    "An algorithm is the expected amount of resources (time, space, etc.) required to execute the algorithm averaged over all possible inputs of a given size. It provides a more realistic measure of an algorithm's performance than the best or worst case alone, as it considers the typical or average behavior across a range of inputs.\n",
    "\n",
    "#### Example of Average-Case Complexity:\n",
    "\n",
    "Let's consider the average-case scenario for a sorting algorithm like **Quicksort**, which has an average-case time complexity of \\( O(n \\log n) \\).\n",
    "\n",
    "```python\n",
    "def quicksort(arr):\n",
    "    if len(arr) <= 1:\n",
    "        return arr\n",
    "    pivot = arr[len(arr) // 2]\n",
    "    left = [x for x in arr if x < pivot]\n",
    "    middle = [x for x in arr if x == pivot]\n",
    "    right = [x for x in arr if x > pivot]\n",
    "    return quicksort(left) + middle + quicksort(right)\n",
    "```\n",
    "\n",
    "- **Average Case**: \\( O(n \\log n) \\) - This average-case complexity assumes that the pivot divides the array into roughly equal halves in each recursive call, leading to \\( O(n) \\) partitions and \\( O(\\log n) \\) levels of recursion.\n",
    "\n",
    "In the average case:\n",
    "- The partitioning process divides the array into two smaller subarrays.\n",
    "- Each subarray is processed recursively until it reaches a base case of a single element or an empty array.\n",
    "\n",
    "The average-case complexity of \\( O(n \\log n) \\) suggests that, on average, the algorithm performs well and efficiently for a wide range of input distributions. It takes into account various possible scenarios of input distributions, rather than just the best or worst possible scenarios.\n",
    "\n",
    "Analyzing average-case complexity is important for understanding the expected performance of an algorithm in practical applications where the inputs may vary and may not always be in the best or worst-case scenarios. It helps in comparing algorithms and selecting the most suitable one based on expected real-world performance."
   ]
  },
  {
   "cell_type": "markdown",
   "id": "c839aa96",
   "metadata": {},
   "source": [
    "#### Prepared By,\n",
    "Ahamed Basith"
   ]
  },
  {
   "cell_type": "code",
   "execution_count": null,
   "id": "c8827e46",
   "metadata": {},
   "outputs": [],
   "source": []
  }
 ],
 "metadata": {
  "kernelspec": {
   "display_name": "Python 3 (ipykernel)",
   "language": "python",
   "name": "python3"
  },
  "language_info": {
   "codemirror_mode": {
    "name": "ipython",
    "version": 3
   },
   "file_extension": ".py",
   "mimetype": "text/x-python",
   "name": "python",
   "nbconvert_exporter": "python",
   "pygments_lexer": "ipython3",
   "version": "3.11.5"
  }
 },
 "nbformat": 4,
 "nbformat_minor": 5
}
