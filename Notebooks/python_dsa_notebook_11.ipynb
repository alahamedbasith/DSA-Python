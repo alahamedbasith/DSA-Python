{
 "cells": [
  {
   "cell_type": "markdown",
   "id": "4c16b371",
   "metadata": {},
   "source": [
    "# 11. Linked List in python\n",
    "A linked list is a fundamental data structure in computer science used for storing and organizing data. It consists of a sequence of elements, called nodes, where each node contains two parts: the data and a reference (or pointer) to the next node in the sequence. The last node typically points to null, indicating the end of the list.\n",
    "\n",
    "Linked lists offer several advantages and use cases:\n",
    "\n",
    "1. **Dynamic Size**: Unlike arrays, linked lists can easily grow or shrink in size during runtime without requiring a fixed amount of memory.\n",
    "\n",
    "2. **Efficient Insertion and Deletion**: Insertions and deletions at any position in a linked list can be done in constant time (O(1)) as long as the position is known. This makes linked lists suitable for scenarios where frequent insertions and deletions are performed.\n",
    "\n",
    "3. **No Wasted Space**: Linked lists only use as much memory as needed for the elements they contain, unlike arrays which may have unused space.\n",
    "\n",
    "4. **Ease of Implementation**: Linked lists are relatively simple to implement and understand compared to other data structures like trees and graphs.\n",
    "\n",
    "Linked lists come in various types, such as singly linked lists, doubly linked lists, and circular linked lists, each with its own properties:\n",
    "\n",
    "1. **Singly Linked List**: Each node points to the next node in the sequence, and the last node points to null. Traversing a singly linked list can only be done in one direction, from the head (the first node) to the tail (the last node).\n",
    "\n",
    "2. **Doubly Linked List**: Each node contains two pointers, one pointing to the next node and one pointing to the previous node. This allows traversal in both directions, making operations like insertion and deletion at any position more efficient compared to singly linked lists.\n",
    "\n",
    "3. **Circular Linked List**: In a circular linked list, the last node points back to the first node, forming a loop. This can simplify certain algorithms and operations, such as traversing the list starting from any node or implementing a queue data structure.\n",
    "\n",
    "Overall, linked lists are versatile data structures with various applications in computer science, such as implementing dynamic data structures like stacks, queues, and hash tables, as well as in memory management systems and operating systems."
   ]
  },
  {
   "cell_type": "markdown",
   "id": "35e91bff",
   "metadata": {},
   "source": [
    "![](https://www.google.com/url?sa=i&url=https%3A%2F%2Fbeginnersbook.com%2F2013%2F12%2Flinkedlist-in-java-with-example%2F&psig=AOvVaw3ksW0DC5N24hNdhsrf_AJj&ust=1716555764117000&source=images&cd=vfe&opi=89978449&ved=0CBIQjRxqFwoTCJCPmNbqo4YDFQAAAAAdAAAAABAK)"
   ]
  },
  {
   "cell_type": "markdown",
   "id": "0c8d0980",
   "metadata": {},
   "source": [
    "![](https://beginnersbook.com/wp-content/uploads/2013/12/singly_linkedlist.png)"
   ]
  },
  {
   "cell_type": "markdown",
   "id": "35170cca",
   "metadata": {},
   "source": [
    "## Steps:\n",
    "**1. Create two or more nodes.**"
   ]
  },
  {
   "cell_type": "code",
   "execution_count": 1,
   "id": "af2d9fb2",
   "metadata": {},
   "outputs": [
    {
     "name": "stdout",
     "output_type": "stream",
     "text": [
      "20\n",
      "None\n",
      "30\n",
      "None\n"
     ]
    }
   ],
   "source": [
    "# How to create a node?\n",
    "# Create a simple non linking node\n",
    "\n",
    "class Node:\n",
    "    data = None\n",
    "    pointer = None\n",
    "    \n",
    "    def __init__(self,data):\n",
    "        self.data = data\n",
    "        \n",
    "node1 = Node(20)\n",
    "node2 = Node(30)\n",
    "print(node1.data)\n",
    "print(node1.pointer)\n",
    "\n",
    "print(node2.data)\n",
    "print(node2.pointer)"
   ]
  },
  {
   "cell_type": "code",
   "execution_count": 2,
   "id": "65499a1d",
   "metadata": {},
   "outputs": [
    {
     "name": "stdout",
     "output_type": "stream",
     "text": [
      "20\n",
      "None\n",
      "30\n",
      "None\n"
     ]
    }
   ],
   "source": [
    "# Create a simple non linking node best approch\n",
    "class Node:\n",
    "    def __init__(self,data):\n",
    "        self.data = data\n",
    "        self.pointer = None\n",
    "        \n",
    "node1 = Node(20)\n",
    "node2 = Node(30)\n",
    "print(node1.data)\n",
    "print(node1.pointer)\n",
    "\n",
    "print(node2.data)\n",
    "print(node2.pointer)\n"
   ]
  },
  {
   "cell_type": "markdown",
   "id": "38c1538e",
   "metadata": {},
   "source": [
    "**2. Assign the next address to the current node.**"
   ]
  },
  {
   "cell_type": "code",
   "execution_count": 3,
   "id": "f4210f86",
   "metadata": {},
   "outputs": [
    {
     "name": "stdout",
     "output_type": "stream",
     "text": [
      "140710586651464\n",
      "140710586651560\n",
      "140710586651624\n",
      "140710586651496\n"
     ]
    }
   ],
   "source": [
    "# Find the address\n",
    "\n",
    "a = [2,5,7,3] # takes 12 byte for each based on system\n",
    "print(id(a[0]))\n",
    "print(id(a[1]))\n",
    "print(id(a[2]))\n",
    "print(id(a[3]))"
   ]
  },
  {
   "cell_type": "code",
   "execution_count": 4,
   "id": "488bbcb2",
   "metadata": {},
   "outputs": [
    {
     "name": "stdout",
     "output_type": "stream",
     "text": [
      "<__main__.Node object at 0x00000110B9581AD0>\n",
      "<__main__.Node object at 0x00000110B952C8D0>\n"
     ]
    }
   ],
   "source": [
    "class Node:\n",
    "    def __init__(self,data):\n",
    "        self.data = data\n",
    "        self.pointer = None\n",
    "        \n",
    "node1 = Node(20)\n",
    "node2 = Node(30)\n",
    "print(node1) # It provides the address\n",
    "print(node2) # It provides the address"
   ]
  },
  {
   "cell_type": "code",
   "execution_count": 5,
   "id": "a837afcb",
   "metadata": {},
   "outputs": [
    {
     "name": "stdout",
     "output_type": "stream",
     "text": [
      "1171340663504\n",
      "1171340314832\n"
     ]
    }
   ],
   "source": [
    "# Convert hexadecimal to decimal\n",
    "print(id(node1))\n",
    "print(id(node2))"
   ]
  },
  {
   "cell_type": "code",
   "execution_count": 6,
   "id": "b2e076c3",
   "metadata": {},
   "outputs": [
    {
     "name": "stdout",
     "output_type": "stream",
     "text": [
      "<__main__.Node object at 0x00000110B9589950>\n",
      "<__main__.Node object at 0x00000110B9581AD0>\n"
     ]
    }
   ],
   "source": [
    "# Without using __str__ (Optional)\n",
    "\n",
    "class Node:\n",
    "    def __init__(self,data):\n",
    "        self.data = data\n",
    "        self.pointer = None\n",
    "        \n",
    "node1 = Node(20)\n",
    "node2 = Node(30)\n",
    "print(node1) # It provides the address\n",
    "print(node2) # It provides the address"
   ]
  },
  {
   "cell_type": "code",
   "execution_count": 7,
   "id": "0441dc24",
   "metadata": {},
   "outputs": [
    {
     "name": "stdout",
     "output_type": "stream",
     "text": [
      "Node Class\n",
      "Node Class\n"
     ]
    }
   ],
   "source": [
    "# Avoid node address while printing use method override (Optional)\n",
    "\n",
    "class Node:\n",
    "    def __init__(self,data):\n",
    "        self.data = data\n",
    "        self.pointer = None\n",
    "    \n",
    "    # Method Override using string\n",
    "    def __str__(self):\n",
    "        return \"Node Class\"\n",
    "        \n",
    "node1 = Node(20)\n",
    "node2 = Node(30)\n",
    "print(node1) # It provides the address\n",
    "print(node2) # It provides the address"
   ]
  },
  {
   "cell_type": "markdown",
   "id": "621190be",
   "metadata": {},
   "source": [
    "Assign the address in the node"
   ]
  },
  {
   "cell_type": "code",
   "execution_count": 8,
   "id": "9004dcdb",
   "metadata": {},
   "outputs": [
    {
     "name": "stdout",
     "output_type": "stream",
     "text": [
      "<__main__.Node object at 0x00000110B95E4810>\n",
      "<__main__.Node object at 0x00000110B95E4810>\n",
      "20\n",
      "30\n",
      "50\n",
      "20\n",
      "None\n"
     ]
    }
   ],
   "source": [
    "class Node:\n",
    "    def __init__(self,data):\n",
    "        self.data = data\n",
    "        self.pointer = None\n",
    "        \n",
    "head = Node(20)\n",
    "node1 = Node(30)\n",
    "node2 = Node(50)\n",
    "\n",
    "# Assign the address\n",
    "head.pointer = node1\n",
    "node1.pointer = node2\n",
    "\n",
    "\n",
    "# For confirmation check the head pointer and node1 address are same\n",
    "print(node1)\n",
    "print(head.pointer) # Both are same so linking is successful\n",
    "\n",
    "# For traverse the linked list\n",
    "\n",
    "current = head # For storing head address in current\n",
    "\n",
    "while current is not None: # first check head is not none then next node then next until the node has any address contains\n",
    "    print(current.data)\n",
    "    \n",
    "    # Assign next node address using current node pointer\n",
    "    # current is traverse one therefore we cannot use head directly in the loop\n",
    "    current = current.pointer\n",
    "    \n",
    "\n",
    "# Check head value is does not changable\n",
    "print(head.data) # Head is not changed so linked list works fine\n",
    "print(current) # Last node does not have a pointer so it returns null\n",
    "# print(current.data) # There is no address found in last node.How the data present in the node.So it returns the error"
   ]
  },
  {
   "cell_type": "markdown",
   "id": "7191f3d4",
   "metadata": {},
   "source": [
    "This is the simple and straightforward approach of linked list"
   ]
  },
  {
   "cell_type": "markdown",
   "id": "f5c6183a",
   "metadata": {},
   "source": [
    "### Implement standard format of linked list using class"
   ]
  },
  {
   "cell_type": "code",
   "execution_count": 9,
   "id": "afe66650",
   "metadata": {},
   "outputs": [
    {
     "name": "stdout",
     "output_type": "stream",
     "text": [
      "Before Removing:\n",
      "10\n",
      "30\n",
      "70\n",
      "After Removing:\n",
      "10\n",
      "70\n"
     ]
    }
   ],
   "source": [
    "# Creating a node\n",
    "class Node:\n",
    "    def __init__(self,data):\n",
    "        self.data = data\n",
    "        self.pointer = None\n",
    "        \n",
    "class LinkedList:\n",
    "    def __init__(self):\n",
    "        # Defining head of linked list\n",
    "        self.head = None\n",
    "        \n",
    "    # Creating a new node\n",
    "    def add(self,data):\n",
    "        newNode = Node(data)\n",
    "        \n",
    "        # Then Kidacha node aa head oda join if entha node head la assign aagalanaa.Then only the node link to head\n",
    "        \n",
    "        # Check the head node contains addresss\n",
    "        if self.head is None:\n",
    "            # Assign newnode node to head node\n",
    "            self.head = newNode # The newnode address assigned to head node\n",
    "        else:\n",
    "        # Suppose head node la already address present aayiruntha above else condition is applied.Because head node la vera node iruntha eduku apram new node add pannanumnu theriyathu so traverse pannitu eppam current pointer NONE aagutho anga new node add panniranum\n",
    "            # Traverse for which node after we need to add new node\n",
    "            current = self.head\n",
    "            while (current.pointer is not None):\n",
    "                current = current.pointer\n",
    "            # Join new node after checking all pointers are not present\n",
    "            # Current node la ulla pointer la new node address join panrom\n",
    "            current.pointer = newNode\n",
    "            \n",
    "    # Display the linked list\n",
    "    def print(self):\n",
    "        current = self.head # For storing head address in current\n",
    "\n",
    "        while current is not None: # first check head is not none then next node then next until the node has any address contains\n",
    "            print(current.data)\n",
    "            current = current.pointer\n",
    "            \n",
    "    # Remove the node from linked list\n",
    "    def remove(self,data):\n",
    "        # Check head node is not none\n",
    "        if(self.head is not None):\n",
    "            # First add condition for the remove node is present which present in the head node\n",
    "            if(self.head.data == data):\n",
    "                self.head = self.head.pointer\n",
    "            # Then add condition for remove node is present rest of the head node\n",
    "            else:\n",
    "                current = self.head\n",
    "                \n",
    "                # Traverse the linked list and check the data is present in the linked list\n",
    "                # current pointer la irunthu next node element check panrom.Adu equal la irukka solli equal la iruntha adoda intha while loop stop aayirum\n",
    "                while (current.pointer is not None and current.pointer.data != data):\n",
    "                    current = current.pointer\n",
    "                    \n",
    "                # Then remove node link from deleted node and assigns node to other node\n",
    "                if current.pointer is not None:\n",
    "                    current.pointer = current.pointer.pointer\n",
    "                else:\n",
    "                    print(data,\" is not present in the Linked list\")\n",
    "                \n",
    "        else:\n",
    "            print(\"Linked list is empty\")\n",
    "            \n",
    "    \n",
    "ob = LinkedList()\n",
    "ob.add(10)\n",
    "ob.add(30)\n",
    "ob.add(70)\n",
    "print(\"Before Removing:\")\n",
    "ob.print()\n",
    "ob.remove(30)\n",
    "print(\"After Removing:\")\n",
    "ob.print()"
   ]
  },
  {
   "cell_type": "markdown",
   "id": "22eb5e70",
   "metadata": {},
   "source": [
    "\n",
    "\n",
    "| Operation        | Time Complexity | Space Complexity |\n",
    "|------------------|-----------------|------------------|\n",
    "| Access (by index)| O(n)            | O(1)             |\n",
    "| Search           | O(n)            | O(1)             |\n",
    "| Insertion (beginning) | O(1)        | O(1)             |\n",
    "| Insertion (end)  | O(n)            | O(1)             |\n",
    "| Insertion (middle) | O(n)           | O(1)             |\n",
    "| Deletion (beginning) | O(1)         | O(1)             |\n",
    "| Deletion (end)   | O(n)            | O(1)             |\n",
    "| Deletion (middle)| O(n)            | O(1)             |\n",
    "| Concatenation    | O(1)            | O(1)             |\n",
    "| Reverse          | O(n)            | O(1)             |\n",
    "\n",
    "Here's what these complexities mean:\n",
    "\n",
    "- **Time Complexity**: Indicates the amount of time an operation takes to complete relative to the size of the linked list (n).\n",
    "- **Space Complexity**: Indicates the amount of additional memory required by an operation relative to the size of the linked list.\n",
    "\n",
    "In general, linked lists offer efficient insertion and deletion at the beginning of the list, but accessing elements by index or searching for specific elements takes linear time. Additionally, while insertion and deletion at the end of the list or in the middle require traversal, they still take constant time to update the pointers once the position is determined."
   ]
  },
  {
   "cell_type": "markdown",
   "id": "9a46c8cf",
   "metadata": {},
   "source": [
    "#### Prepared By,\n",
    "Ahamed Basith"
   ]
  },
  {
   "cell_type": "code",
   "execution_count": null,
   "id": "d34f7cfc",
   "metadata": {},
   "outputs": [],
   "source": []
  }
 ],
 "metadata": {
  "kernelspec": {
   "display_name": "Python 3 (ipykernel)",
   "language": "python",
   "name": "python3"
  },
  "language_info": {
   "codemirror_mode": {
    "name": "ipython",
    "version": 3
   },
   "file_extension": ".py",
   "mimetype": "text/x-python",
   "name": "python",
   "nbconvert_exporter": "python",
   "pygments_lexer": "ipython3",
   "version": "3.11.5"
  }
 },
 "nbformat": 4,
 "nbformat_minor": 5
}
