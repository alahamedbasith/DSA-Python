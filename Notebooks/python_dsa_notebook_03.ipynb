{
 "cells": [
  {
   "cell_type": "markdown",
   "id": "8b0b1a44",
   "metadata": {},
   "source": [
    "# 3.Arrays in Python"
   ]
  },
  {
   "cell_type": "markdown",
   "id": "c3bd5cd9",
   "metadata": {},
   "source": [
    "### Difference between array and list in python\n",
    "In Python, arrays and lists are both used to store collections of elements, but they have some differences in their implementation and usage.\n",
    "\n",
    "    \n",
    "- Data Types:\n",
    "  - Arrays: In Python, arrays are provided by the array module. Arrays can only store elements of the same data type.\n",
    "  - Lists: Lists can store elements of different data types.\n",
    "\n",
    "- Import:\n",
    "   - Arrays: You need to import the array module to use arrays in Python.\n",
    "   - Lists: Lists are a built-in data type in Python, so you don't need to import any module to use them.\n",
    "\n",
    "- Mutability:\n",
    "   - Arrays: Arrays are mutable, meaning you can change the value of elements after they are initialized.In Python the array act as a dynamic memory in other languages array act as a static memory(Fixed memory).\n",
    "   - Lists: Lists are mutable as well.\n",
    "\n",
    "- Performance:\n",
    "   - Arrays: Arrays can be more efficient in terms of memory and performance for storing large amounts of numerical data because they are implemented as contiguous blocks of memory.\n",
    "   - Lists: Lists are more flexible and versatile but might be less efficient for numerical computations compared to arrays.\n",
    "\n",
    "- Functions and Methods:\n",
    "   - Arrays: Arrays have a limited set of functions and methods compared to lists.\n",
    "   - Lists: Lists have a wide range of built-in functions and methods for various operations such as adding elements, removing elements, sorting, etc."
   ]
  },
  {
   "cell_type": "markdown",
   "id": "b29c9e52",
   "metadata": {},
   "source": [
    "### Common Operations for every data structures:\n",
    "- Access\n",
    "- Insert\n",
    "- Delete\n",
    "- Search\n",
    "\n",
    "Based on the above operations time and space analysis,We need to use particular data structure for particular functionality."
   ]
  },
  {
   "cell_type": "markdown",
   "id": "54160224",
   "metadata": {},
   "source": [
    "### Array Element Accessing"
   ]
  },
  {
   "cell_type": "code",
   "execution_count": 1,
   "id": "ce189415",
   "metadata": {},
   "outputs": [
    {
     "name": "stdout",
     "output_type": "stream",
     "text": [
      "1\n",
      "3\n"
     ]
    }
   ],
   "source": [
    "# Array Accessing\n",
    "\n",
    "import array\n",
    "\n",
    "# Creating an array of integers\n",
    "arr = array.array('i', [1, 2, 3, 4, 5]) # i represents typecode it same as format specifier in c language\n",
    "\n",
    "print(arr[0]) # Retrieve data on constant time O(1) \n",
    "print(arr[2]) # Retrieve data on constant time O(1)"
   ]
  },
  {
   "cell_type": "markdown",
   "id": "a4325c5c",
   "metadata": {},
   "source": [
    "Access the element directly without traversing the array instead use references <br>\n",
    "Array element accessing - O(1) constant time"
   ]
  },
  {
   "cell_type": "markdown",
   "id": "fba29db5",
   "metadata": {},
   "source": [
    "### Array Element Inserting"
   ]
  },
  {
   "cell_type": "markdown",
   "id": "a006da1d",
   "metadata": {},
   "source": [
    "![Alt text](https://1.bp.blogspot.com/-vt2iVgqNPuU/TiU0hOjE20I/AAAAAAAAAzo/cj5254Fde1s/s1600/insertionSort.png)"
   ]
  },
  {
   "cell_type": "code",
   "execution_count": 2,
   "id": "32256d8e",
   "metadata": {},
   "outputs": [
    {
     "name": "stdout",
     "output_type": "stream",
     "text": [
      "array('i', [10, 1, 2, 3, 4, 5])\n"
     ]
    }
   ],
   "source": [
    "# Array Inserting at Begin\n",
    "\n",
    "from array import *\n",
    "\n",
    "# Creating an array of integers\n",
    "arr = array('i', [1, 2, 3, 4, 5])\n",
    "\n",
    "arr.insert(0,10) # Update the value on O(n-i) => O(5-0) = O(5) time complexity (5 operations done in array)\n",
    "\n",
    "print(arr) # shift left to right and print"
   ]
  },
  {
   "cell_type": "code",
   "execution_count": 3,
   "id": "07d343a3",
   "metadata": {},
   "outputs": [
    {
     "name": "stdout",
     "output_type": "stream",
     "text": [
      "array('i', [1, 2, 10, 3, 4, 5])\n"
     ]
    }
   ],
   "source": [
    "# Array Inserting at Middle\n",
    "\n",
    "from array import *\n",
    "\n",
    "# Creating an array of integers\n",
    "arr = array('i', [1, 2, 3, 4, 5])\n",
    "\n",
    "arr.insert(2,10) # Update the value on O(n-i) => O(5-2) = O(3) time complexity (3 operations done in array)\n",
    "\n",
    "print(arr) # shift left to right and print"
   ]
  },
  {
   "cell_type": "code",
   "execution_count": 4,
   "id": "2024021f",
   "metadata": {},
   "outputs": [
    {
     "name": "stdout",
     "output_type": "stream",
     "text": [
      "array('i', [1, 2, 3, 4, 5, 10])\n"
     ]
    }
   ],
   "source": [
    "# Array Inserting at End\n",
    "\n",
    "from array import *\n",
    "\n",
    "# Creating an array of integers\n",
    "arr = array('i', [1, 2, 3, 4, 5])\n",
    "\n",
    "arr.insert(5,10) # Update the value on O(n-i) => O(5-4) = O(1) constant time\n",
    "\n",
    "print(arr) # No shift operation perform"
   ]
  },
  {
   "cell_type": "markdown",
   "id": "8672c9c7",
   "metadata": {},
   "source": [
    "Insert End - O(1) (No Shift operation occurs) <br>\n",
    "Insert Begin and Middle - O(n-i) (Shift operation occurs)<br>\n",
    "\n",
    "O(n-i),<br>\n",
    "n - number of elements in array <br>\n",
    "i - index of particular element"
   ]
  },
  {
   "cell_type": "markdown",
   "id": "6295ce68",
   "metadata": {},
   "source": [
    "### Array Element Deleting"
   ]
  },
  {
   "cell_type": "code",
   "execution_count": 5,
   "id": "3e562411",
   "metadata": {},
   "outputs": [
    {
     "name": "stdout",
     "output_type": "stream",
     "text": [
      "array('i', [2, 3, 4, 5])\n"
     ]
    }
   ],
   "source": [
    "# Array element Deleting at Begin and Middle\n",
    "\n",
    "from array import *\n",
    "\n",
    "# Creating an array of integers\n",
    "arr = array('i', [1, 2, 3, 4, 5])\n",
    "\n",
    "arr.pop(0) # Delete the value on O(n-i) => O(5-0) = O(5) time complexity (5 operations done in array)\n",
    "\n",
    "print(arr) # shift right to left and print"
   ]
  },
  {
   "cell_type": "code",
   "execution_count": 6,
   "id": "858d5954",
   "metadata": {},
   "outputs": [
    {
     "name": "stdout",
     "output_type": "stream",
     "text": [
      "array('i', [1, 2, 3, 4])\n"
     ]
    }
   ],
   "source": [
    "# Array element Deleting at End\n",
    "\n",
    "from array import *\n",
    "\n",
    "# Creating an array of integers\n",
    "arr = array('i', [1, 2, 3, 4, 5])\n",
    "\n",
    "arr.pop(4) # Delete the value on O(n-i) => O(5-4) = O(1) constant time (1 operations done in array)\n",
    "\n",
    "print(arr) # No shift operation perform"
   ]
  },
  {
   "cell_type": "markdown",
   "id": "8062aad5",
   "metadata": {},
   "source": [
    "Insert End - O(1) (No Shift operation occurs) <br>\n",
    "Insert Begin and Middle - O(n-i) (Shift operation occurs)<br>\n",
    "\n",
    "O(n-i),<br>\n",
    "n - number of elements in array <br>\n",
    "i - index of particular element"
   ]
  },
  {
   "cell_type": "markdown",
   "id": "fa9d435c",
   "metadata": {},
   "source": [
    "### Array Element Search"
   ]
  },
  {
   "cell_type": "code",
   "execution_count": 7,
   "id": "c69ab13f",
   "metadata": {},
   "outputs": [
    {
     "name": "stdout",
     "output_type": "stream",
     "text": [
      "Found\n"
     ]
    }
   ],
   "source": [
    "from array import *\n",
    "\n",
    "# Creating an array of integers\n",
    "arr = array('i', [1, 2, 3, 4, 5])\n",
    "\n",
    "serach_element = 2\n",
    "\n",
    "for i in arr:\n",
    "    if i == serach_element:\n",
    "        print(\"Found\")\n",
    "        break # Once find the element just break the loop.No need to iterate over the array"
   ]
  },
  {
   "cell_type": "code",
   "execution_count": 8,
   "id": "1a1a46fa",
   "metadata": {},
   "outputs": [
    {
     "name": "stdout",
     "output_type": "stream",
     "text": [
      "1\n"
     ]
    }
   ],
   "source": [
    "# Return the element index \n",
    "\n",
    "from array import *\n",
    "\n",
    "# Creating an array of integers\n",
    "arr = array('i', [1, 2, 3, 4, 5])\n",
    "\n",
    "serach_element = 2\n",
    "\n",
    "for i in range(0,len(arr)):\n",
    "    if arr[i] == serach_element:\n",
    "        print(i) \n",
    "        break # Once find the element just break the loop.No need to iterate over the array"
   ]
  },
  {
   "cell_type": "raw",
   "id": "45105489",
   "metadata": {},
   "source": [
    "# Time Complexity\n",
    "\n",
    "Best Case - O(1)\n",
    "Average Case - O(n) # the condition partially search the array\n",
    "Worst Case - O(n) # the condition completely search the array\n",
    "\n",
    "In common algorithmic analysis, takes the worst case for element search.\n",
    "\n",
    "The most of the data structure searching operations comes under the O(n).\n",
    "\n",
    "The selection of data structure depends on the above operation."
   ]
  },
  {
   "cell_type": "markdown",
   "id": "3aa1d6a7",
   "metadata": {},
   "source": [
    "#### Prepared By,\n",
    "Ahamed Basith"
   ]
  },
  {
   "cell_type": "code",
   "execution_count": null,
   "id": "fa173b8d",
   "metadata": {},
   "outputs": [],
   "source": []
  }
 ],
 "metadata": {
  "kernelspec": {
   "display_name": "Python 3 (ipykernel)",
   "language": "python",
   "name": "python3"
  },
  "language_info": {
   "codemirror_mode": {
    "name": "ipython",
    "version": 3
   },
   "file_extension": ".py",
   "mimetype": "text/x-python",
   "name": "python",
   "nbconvert_exporter": "python",
   "pygments_lexer": "ipython3",
   "version": "3.11.5"
  }
 },
 "nbformat": 4,
 "nbformat_minor": 5
}
