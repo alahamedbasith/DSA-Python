{
 "cells": [
  {
   "cell_type": "markdown",
   "id": "2efd03c9",
   "metadata": {},
   "source": [
    "# 5. Recursion in python"
   ]
  },
  {
   "cell_type": "markdown",
   "id": "69a5f1f0",
   "metadata": {},
   "source": [
    "Recursion in programming is a technique where a function calls itself in order to solve a problem. This approach is particularly useful for problems that can be broken down into smaller, similar problems. To understand recursion in Python, let's explore it step-by-step with an example: calculating the factorial of a number.\n",
    "\n",
    "## Basic Concept of Recursion\n",
    "### Base Case: \n",
    "The condition under which the recursion ends. Without a base case, the function would call itself indefinitely.\n",
    "### Recursive Case: \n",
    "The part of the function where it calls itself with a modified argument, bringing the problem closer to the base case."
   ]
  },
  {
   "cell_type": "markdown",
   "id": "f9d6418c",
   "metadata": {},
   "source": [
    "### Factorial Example\n",
    "\n",
    "The factorial of a number nn (denoted as n!n!) is the product of all positive integers less than or equal to nn. For example:\n",
    "\n",
    "    5!=5×4×3×2×1=1205!=5×4×3×2×1=120\n",
    "    0!=10!=1 by definition.\n",
    "\n",
    "Recursive Approach\n",
    "\n",
    "    Base Case: n=0n=0 or n=1n=1. In both cases, the factorial is 1.\n",
    "    Recursive Case: For n>1n>1, n!=n×(n−1)!n!=n×(n−1)!.\n",
    "    \n",
    "Basically,The problem is divided into subproblems,\n",
    "\n",
    "    5! --- 5 x 4!\n",
    "    4! --- 4 x 3!\n",
    "    3! --- 3 x 2!\n",
    "    2! --- 2 x 1!\n",
    "    1! --- 1 (Base Case)\n",
    "    \n",
    "Note it,the subproblem is created in the fromat of internally like\n",
    "    n*(n-1) then n*(n-1) and so on upto base case\n",
    "    \n",
    "The subproblem was not created like n!,n! for each number\n",
    "    \n",
    " "
   ]
  },
  {
   "cell_type": "code",
   "execution_count": 1,
   "id": "2dc3c6b5",
   "metadata": {},
   "outputs": [
    {
     "data": {
      "text/plain": [
       "120"
      ]
     },
     "execution_count": 1,
     "metadata": {},
     "output_type": "execute_result"
    }
   ],
   "source": [
    "def fact(n):\n",
    "    if n == 1 or n == 0:\n",
    "        return 1\n",
    "    else:\n",
    "        return n*fact(n-1)\n",
    "\n",
    "fact(5)"
   ]
  },
  {
   "cell_type": "markdown",
   "id": "9292a69f",
   "metadata": {},
   "source": [
    "Step-by-Step Execution\n",
    "\n",
    "Let's break down the execution of factorial(5):\n",
    "\n",
    "    factorial(5) calls factorial(4)\n",
    "    factorial(4) calls factorial(3)\n",
    "    factorial(3) calls factorial(2)\n",
    "    factorial(2) calls factorial(1)\n",
    "    factorial(1) returns 1 (base case)\n",
    "    factorial(2) returns 2 * 1 = 2\n",
    "    factorial(3) returns 3 * 2 = 6\n",
    "    factorial(4) returns 4 * 6 = 24\n",
    "    factorial(5) returns 5 * 24 = 120\n",
    "    \n",
    "The above breakdown uses stack to store and return the value at end.\n",
    "\n",
    "    factorial(5)\n",
    "    -> 5 * factorial(4)\n",
    "        -> 4 * factorial(3)\n",
    "            -> 3 * factorial(2)\n",
    "                -> 2 * factorial(1)\n",
    "                    -> 1  (base case)\n"
   ]
  },
  {
   "cell_type": "markdown",
   "id": "1c0577f5",
   "metadata": {},
   "source": [
    "### Another Example"
   ]
  },
  {
   "cell_type": "code",
   "execution_count": 2,
   "id": "e516c885",
   "metadata": {},
   "outputs": [
    {
     "name": "stdout",
     "output_type": "stream",
     "text": [
      "8\n"
     ]
    }
   ],
   "source": [
    "def fibonacci(n):\n",
    "    if n == 0:\n",
    "        return 0  # Base case\n",
    "    elif n == 1:\n",
    "        return 1  # Base case\n",
    "    else:\n",
    "        return fibonacci(n - 1) + fibonacci(n - 2)  # Recursive case\n",
    "\n",
    "# Testing the function\n",
    "print(fibonacci(6))  # Output: 8 (0, 1, 1, 2, 3, 5)"
   ]
  },
  {
   "cell_type": "markdown",
   "id": "282f0569",
   "metadata": {},
   "source": [
    "    fibonacci(6)\n",
    "    ├── fibonacci(5)\n",
    "    │   ├── fibonacci(4)\n",
    "    │   │   ├── fibonacci(3)\n",
    "    │   │   │   ├── fibonacci(2)\n",
    "    │   │   │   │   ├── fibonacci(1) -> 1\n",
    "    │   │   │   │   └── fibonacci(0) -> 0\n",
    "    │   │   │   └── fibonacci(1) -> 1\n",
    "    │   │   └── fibonacci(2)\n",
    "    │   │       ├── fibonacci(1) -> 1\n",
    "    │   │       └── fibonacci(0) -> 0\n",
    "    │   └── fibonacci(3)\n",
    "    │       ├── fibonacci(2)\n",
    "    │       │   ├── fibonacci(1) -> 1\n",
    "    │       │   └── fibonacci(0) -> 0\n",
    "    │       └── fibonacci(1) -> 1\n",
    "    └── fibonacci(4)\n",
    "        ├── fibonacci(3)\n",
    "        │   ├── fibonacci(2)\n",
    "        │   │   ├── fibonacci(1) -> 1\n",
    "        │   │   └── fibonacci(0) -> 0\n",
    "        │   └── fibonacci(1) -> 1\n",
    "        └── fibonacci(2)\n",
    "            ├── fibonacci(1) -> 1\n",
    "            └── fibonacci(0) -> 0\n"
   ]
  },
  {
   "cell_type": "markdown",
   "id": "ebe7ffea",
   "metadata": {},
   "source": [
    "#### Prepared By,\n",
    "Ahamed Basith"
   ]
  },
  {
   "cell_type": "code",
   "execution_count": null,
   "id": "46d719f8",
   "metadata": {},
   "outputs": [],
   "source": []
  }
 ],
 "metadata": {
  "kernelspec": {
   "display_name": "Python 3 (ipykernel)",
   "language": "python",
   "name": "python3"
  },
  "language_info": {
   "codemirror_mode": {
    "name": "ipython",
    "version": 3
   },
   "file_extension": ".py",
   "mimetype": "text/x-python",
   "name": "python",
   "nbconvert_exporter": "python",
   "pygments_lexer": "ipython3",
   "version": "3.11.5"
  }
 },
 "nbformat": 4,
 "nbformat_minor": 5
}
