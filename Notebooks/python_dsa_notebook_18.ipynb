{
 "cells": [
  {
   "cell_type": "markdown",
   "id": "89c13e72",
   "metadata": {},
   "source": [
    "# 18. Dynamic programming and Usage\n",
    "Dynamic programming is an optimization technique used to solve complex problems by breaking them down into simpler subproblems. It is particularly useful for problems that exhibit overlapping subproblems and optimal substructure. Here’s a step-by-step explanation of dynamic programming, followed by a Python example.\n",
    "\n",
    "### Key Concepts of Dynamic Programming\n",
    "\n",
    "1. **Overlapping Subproblems**: The problem can be broken down into subproblems which are reused several times.\n",
    "2. **Optimal Substructure**: The optimal solution to the problem can be constructed from optimal solutions of its subproblems.\n",
    "\n",
    "### Steps to Solve a Problem Using Dynamic Programming\n",
    "\n",
    "1. **Define the State**: Determine the state variables that represent a subproblem.\n",
    "2. **Formulate the Recurrence Relation**: Express the solution to a problem in terms of the solutions to smaller subproblems.\n",
    "3. **Initialize the Base Cases**: Define the base cases for the smallest subproblems.\n",
    "4. **Compute the Result**: Use a bottom-up or top-down approach to solve the problem using the recurrence relation.\n",
    "\n",
    "### Example: Fibonacci Sequence\n",
    "\n",
    "The Fibonacci sequence is a classic example where dynamic programming can be applied. The sequence is defined as:\n",
    "\\[ F(n) = F(n-1) + F(n-2) \\]\n",
    "with base cases:\n",
    "\\[ F(0) = 0, F(1) = 1 \\]\n",
    "\n",
    "### DP Approches\n",
    "\n",
    "- Top-Down Approach (Memoization)\n",
    "- Bottom-Up Approach (Tabulation)\n",
    "\n",
    "\n",
    "### Conclusion\n",
    "\n",
    "Dynamic programming is a powerful technique for solving optimization problems by breaking them into manageable subproblems and solving each subproblem only once. By using memoization (top-down approach) or tabulation (bottom-up approach), we can efficiently compute solutions to complex problems."
   ]
  },
  {
   "cell_type": "markdown",
   "id": "04a4168d",
   "metadata": {},
   "source": [
    "### Bottom-Up Approach (Tabulation)\n",
    "\n",
    "In the bottom-up approach, we solve the subproblems first and use their solutions to build up the solution to the original problem.\n",
    "\n",
    "i.e 121 + 27 (Applying child addition)"
   ]
  },
  {
   "cell_type": "code",
   "execution_count": 1,
   "id": "bb91bc8b",
   "metadata": {},
   "outputs": [
    {
     "name": "stdout",
     "output_type": "stream",
     "text": [
      "[1, 1, 2, 3, 5, 8, 13, 21, 34, 55]\n",
      "55\n"
     ]
    }
   ],
   "source": [
    " def fibo(position):\n",
    "        dp = [0] * (position)\n",
    "        \n",
    "        dp[0] = 1\n",
    "        dp[1] = 1\n",
    "        \n",
    "        for i in range(2,position):\n",
    "            dp[i] = dp[i-1] + dp[i-2]\n",
    "            \n",
    "        print(dp)\n",
    "        print(dp[-1])\n",
    "            \n",
    "fibo(10)"
   ]
  },
  {
   "cell_type": "markdown",
   "id": "0e3371bf",
   "metadata": {},
   "source": [
    "### Top-Down Approach (Memoization - Just Memory)\n",
    "\n",
    "In the top-down approach, we use recursion and store the results of subproblems (memoization) to avoid redundant calculations."
   ]
  },
  {
   "cell_type": "code",
   "execution_count": 2,
   "id": "fa7abc2f",
   "metadata": {},
   "outputs": [
    {
     "data": {
      "text/plain": [
       "55"
      ]
     },
     "execution_count": 2,
     "metadata": {},
     "output_type": "execute_result"
    }
   ],
   "source": [
    "def fibo(position, memo={}):\n",
    "    # Check if the result for the current position is already computed and stored in memo\n",
    "    if position in memo:\n",
    "        return memo[position]\n",
    "    \n",
    "    # Base cases: if the position is 1 or 2, return 1\n",
    "    if position <= 2:\n",
    "        return 1\n",
    "    \n",
    "    # Recursive case: compute the Fibonacci number by summing the results of the two previous positions\n",
    "    memo[position] = fibo(position - 1, memo) + fibo(position - 2, memo)\n",
    "    \n",
    "    # Store and return the computed Fibonacci number\n",
    "    return memo[position]\n",
    "\n",
    "# Test the function\n",
    "fibo(10)"
   ]
  },
  {
   "cell_type": "markdown",
   "id": "39269148",
   "metadata": {},
   "source": [
    "##### Tree Structure for Non-Computed Numbers\n",
    "\n",
    "When computing `fibo(10)` with memoization, the function will avoid recomputing values by storing them in a dictionary. Below is a tree-like structure representing the calls made by the function, showing non-computed values:\n",
    "\n",
    "```\n",
    "fibo(10)\n",
    "├── fibo(9)\n",
    "│   ├── fibo(8)\n",
    "│   │   ├── fibo(7)\n",
    "│   │   │   ├── fibo(6)\n",
    "│   │   │   │   ├── fibo(5)\n",
    "│   │   │   │   │   ├── fibo(4)\n",
    "│   │   │   │   │   │   ├── fibo(3)\n",
    "│   │   │   │   │   │   │   ├── fibo(2)  -> returns 1 (base case)\n",
    "│   │   │   │   │   │   │   └── fibo(1)  -> returns 1 (base case)\n",
    "│   │   │   │   │   │   └── result 2  (memoized)\n",
    "│   │   │   │   │   └── fibo(2)  -> returns 1 (base case)\n",
    "│   │   │   │   └── result 3  (memoized)\n",
    "│   │   │   └── fibo(5)\n",
    "│   │   │       └── result 5  (memoized)\n",
    "│   │   └── fibo(6)\n",
    "│   │       └── result 8  (memoized)\n",
    "│   └── fibo(7)\n",
    "│       └── result 13 (memoized)\n",
    "└── fibo(8)\n",
    "    └── result 21 (memoized)\n",
    "```\n",
    "\n",
    "### Explanation\n",
    "\n",
    "1. **fibo(10)**: Starts computation.\n",
    "2. **fibo(9)**: Calls fibo(9).\n",
    "3. **fibo(8)**: Calls fibo(8).\n",
    "4. **fibo(7)**: Calls fibo(7).\n",
    "5. **fibo(6)**: Calls fibo(6).\n",
    "6. **fibo(5)**: Calls fibo(5).\n",
    "7. **fibo(4)**: Calls fibo(4).\n",
    "8. **fibo(3)**: Calls fibo(3).\n",
    "9. **fibo(2)** and **fibo(1)**: Both return 1 as they are base cases.\n",
    "10. **fibo(3)**: Computed as 2 (1+1) and memoized.\n",
    "11. **fibo(4)**: Computed using memoized values, returns 3.\n",
    "12. **fibo(5)**: Computed using memoized values, returns 5.\n",
    "13. **fibo(6)**: Computed using memoized values, returns 8.\n",
    "14. **fibo(7)**: Computed using memoized values, returns 13.\n",
    "15. **fibo(8)**: Computed using memoized values, returns 21.\n",
    "16. **fibo(9)**: Computed using memoized values, returns 34.\n",
    "17. **fibo(10)**: Computed using memoized values, returns 55.\n",
    "\n",
    "This structure avoids redundant calculations and demonstrates how dynamic programming optimizes the process by storing and reusing previously computed values.\n",
    "\n",
    "The dp uses most of the problems to achieve optimization"
   ]
  },
  {
   "cell_type": "markdown",
   "id": "c4682e79",
   "metadata": {},
   "source": [
    "#### Prepared By,\n",
    "Ahamed Basith"
   ]
  },
  {
   "cell_type": "code",
   "execution_count": null,
   "id": "7e933f6e",
   "metadata": {},
   "outputs": [],
   "source": []
  }
 ],
 "metadata": {
  "kernelspec": {
   "display_name": "Python 3 (ipykernel)",
   "language": "python",
   "name": "python3"
  },
  "language_info": {
   "codemirror_mode": {
    "name": "ipython",
    "version": 3
   },
   "file_extension": ".py",
   "mimetype": "text/x-python",
   "name": "python",
   "nbconvert_exporter": "python",
   "pygments_lexer": "ipython3",
   "version": "3.11.5"
  }
 },
 "nbformat": 4,
 "nbformat_minor": 5
}
