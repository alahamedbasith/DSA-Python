{
 "cells": [
  {
   "cell_type": "markdown",
   "id": "2bea19d1",
   "metadata": {},
   "source": [
    "# 10. Queue data structure in python\n",
    "In Python, various types of queues can be implemented using different data structures and libraries. Here are examples and explanations for single queues, double-ended queues, circular queues, and priority queues:\n",
    "\n",
    "In Python, various types of queues can be implemented using different data structures and libraries. Here are examples and explanations for single queues, double-ended queues, circular queues, and priority queues:\n",
    "\n",
    "### 1. Single Queue\n",
    "\n",
    "A single queue follows the First-In-First-Out (FIFO) principle. You can use Python's built-in `collections.deque` or the `queue.Queue` class from the `queue` module to implement a single queue.\n",
    "\n",
    "### 2. Double-Ended Queue (Deque)\n",
    "\n",
    "A double-ended queue allows insertion and removal of elements from both ends. The `collections.deque` class is suitable for this purpose.\n",
    "\n",
    "### 3. Circular Queue\n",
    "\n",
    "A circular queue can be implemented using a fixed-size list and pointers to keep track of the front and rear positions.\n",
    "\n",
    "\n",
    "### 4. Priority Queue\n",
    "\n",
    "A priority queue is a special type of queue where each element is associated with a priority, and elements are dequeued based on their priority. The `queue.PriorityQueue` class from the `queue` module can be used."
   ]
  },
  {
   "cell_type": "markdown",
   "id": "8a99e373",
   "metadata": {},
   "source": [
    "## Single Queue"
   ]
  },
  {
   "cell_type": "code",
   "execution_count": 1,
   "id": "b612703b",
   "metadata": {},
   "outputs": [
    {
     "name": "stdout",
     "output_type": "stream",
     "text": [
      "a\n",
      "b\n",
      "c\n"
     ]
    }
   ],
   "source": [
    "#### Using `collections.deque`:\n",
    "from collections import deque\n",
    "\n",
    "queue = deque()\n",
    "\n",
    "# Enqueue\n",
    "queue.append('a')\n",
    "queue.append('b')\n",
    "queue.append('c')\n",
    "\n",
    "# Dequeue\n",
    "print(queue.popleft())  # Output: 'a'\n",
    "print(queue.popleft())  # Output: 'b'\n",
    "print(queue.popleft())  # Output: 'c'"
   ]
  },
  {
   "cell_type": "code",
   "execution_count": 2,
   "id": "bb27b79a",
   "metadata": {},
   "outputs": [
    {
     "name": "stdout",
     "output_type": "stream",
     "text": [
      "a\n",
      "b\n",
      "c\n"
     ]
    }
   ],
   "source": [
    "# Another Example\n",
    "#### Using `queue.Queue`:\n",
    "from queue import Queue\n",
    "\n",
    "queue = Queue()\n",
    "\n",
    "# Enqueue\n",
    "queue.put('a')\n",
    "queue.put('b')\n",
    "queue.put('c')\n",
    "\n",
    "# Dequeue\n",
    "print(queue.get())  # Output: 'a'\n",
    "print(queue.get())  # Output: 'b'\n",
    "print(queue.get())  # Output: 'c'"
   ]
  },
  {
   "cell_type": "markdown",
   "id": "01fa3462",
   "metadata": {},
   "source": [
    "## Double ended queue"
   ]
  },
  {
   "cell_type": "code",
   "execution_count": 3,
   "id": "e82c23a1",
   "metadata": {},
   "outputs": [
    {
     "name": "stdout",
     "output_type": "stream",
     "text": [
      "b\n",
      "d\n"
     ]
    }
   ],
   "source": [
    "from collections import deque\n",
    "\n",
    "deque = deque()\n",
    "\n",
    "# Add to the right\n",
    "deque.append('a')\n",
    "deque.append('b')\n",
    "\n",
    "# Add to the left\n",
    "deque.appendleft('c')\n",
    "deque.appendleft('d')\n",
    "\n",
    "# Remove from the right\n",
    "print(deque.pop())  # Output: 'b'\n",
    "\n",
    "# Remove from the left\n",
    "print(deque.popleft())  # Output: 'd'"
   ]
  },
  {
   "cell_type": "markdown",
   "id": "dfb2c631",
   "metadata": {},
   "source": [
    "## Circular queue"
   ]
  },
  {
   "cell_type": "code",
   "execution_count": 4,
   "id": "3f012993",
   "metadata": {},
   "outputs": [
    {
     "name": "stdout",
     "output_type": "stream",
     "text": [
      "Elements in the circular queue are: 1 -> 2 -> 3 -> 4 -> 5\n",
      "Elements in the circular queue are: 2 -> 3 -> 4 -> 5\n",
      "Elements in the circular queue are: 2 -> 3 -> 4 -> 5 -> 6\n"
     ]
    }
   ],
   "source": [
    "class CircularQueue:\n",
    "    def __init__(self, size):\n",
    "        self.size = size\n",
    "        self.queue = [None] * size\n",
    "        self.front = self.rear = -1\n",
    "\n",
    "    def is_full(self):\n",
    "        # Calculate the next position of rear and check if it equals front\n",
    "        return (self.rear + 1) % self.size == self.front\n",
    "\n",
    "    def is_empty(self):\n",
    "        # Queue is empty if both front and rear are -1\n",
    "        return self.front == -1\n",
    "\n",
    "    def enqueue(self, data):\n",
    "        if self.is_full():\n",
    "            print(\"Queue is Full\")\n",
    "            return\n",
    "\n",
    "        if self.is_empty():\n",
    "            self.front = 0\n",
    "\n",
    "        self.rear = (self.rear + 1) % self.size\n",
    "        self.queue[self.rear] = data\n",
    "\n",
    "    def dequeue(self):\n",
    "        if self.is_empty():\n",
    "            print(\"Queue is Empty\")\n",
    "            return None\n",
    "\n",
    "        data = self.queue[self.front]\n",
    "        if self.front == self.rear:\n",
    "            self.front = self.rear = -1\n",
    "        else:\n",
    "            self.front = (self.front + 1) % self.size\n",
    "\n",
    "        return data\n",
    "\n",
    "    def display(self):\n",
    "        if self.is_empty():\n",
    "            print(\"Queue is Empty\")\n",
    "            return\n",
    "\n",
    "        if self.rear >= self.front:\n",
    "            elements = [str(self.queue[i]) for i in range(self.front, self.rear + 1)]\n",
    "        else:\n",
    "            elements = [str(self.queue[i]) for i in range(self.front, self.size)]\n",
    "            elements += [str(self.queue[i]) for i in range(0, self.rear + 1)]\n",
    "\n",
    "        print(\"Elements in the circular queue are:\", \" -> \".join(elements))\n",
    "\n",
    "# Example usage\n",
    "cq = CircularQueue(5)\n",
    "\n",
    "cq.enqueue(1)\n",
    "cq.enqueue(2)\n",
    "cq.enqueue(3)\n",
    "cq.enqueue(4)\n",
    "cq.enqueue(5)  # At this point, the queue is full.\n",
    "cq.display()  # Output: Elements in the circular queue are: 1 -> 2 -> 3 -> 4 -> 5\n",
    "\n",
    "cq.dequeue()\n",
    "cq.display()  # Output: Elements in the circular queue are: 2 -> 3 -> 4 -> 5\n",
    "\n",
    "cq.enqueue(6)\n",
    "cq.display()  # Output: Elements in the circular queue are: 2 -> 3 -> 4 -> 5 -> 6\n"
   ]
  },
  {
   "cell_type": "markdown",
   "id": "f3d7b81a",
   "metadata": {},
   "source": [
    "## Priority queue"
   ]
  },
  {
   "cell_type": "code",
   "execution_count": 5,
   "id": "282ed2ed",
   "metadata": {},
   "outputs": [
    {
     "name": "stdout",
     "output_type": "stream",
     "text": [
      "(1, 'a')\n",
      "(2, 'b')\n",
      "(3, 'c')\n"
     ]
    }
   ],
   "source": [
    "from queue import PriorityQueue\n",
    "\n",
    "priority_queue = PriorityQueue()\n",
    "\n",
    "# Enqueue with priority\n",
    "priority_queue.put((1, 'a'))  # (priority, element)\n",
    "priority_queue.put((3, 'c'))\n",
    "priority_queue.put((2, 'b'))\n",
    "\n",
    "# Dequeue\n",
    "print(priority_queue.get())  # Output: (1, 'a')\n",
    "print(priority_queue.get())  # Output: (2, 'b')\n",
    "print(priority_queue.get())  # Output: (3, 'c')"
   ]
  },
  {
   "cell_type": "markdown",
   "id": "0fa3fbe7",
   "metadata": {},
   "source": [
    "\n",
    "### Time and Space Complexity for Queue Operations\n",
    "\n",
    "#### Simple Queue (Using a Dynamic List)\n",
    "\n",
    "1. **Enqueue (Adding an element to the rear)**\n",
    "   - **Time Complexity**: \\(O(1)\\) (Amortized)\n",
    "     - Appending an element to the end of the list is generally \\(O(1)\\), but occasional resizing can take \\(O(n)\\) time.\n",
    "   - **Space Complexity**: \\(O(1)\\) per operation, \\(O(n)\\) overall\n",
    "     - Each enqueue operation takes constant space, but the overall space grows linearly with the number of elements.\n",
    "\n",
    "2. **Dequeue (Removing an element from the front)**\n",
    "   - **Time Complexity**: \\(O(n)\\)\n",
    "     - Removing the front element requires shifting all subsequent elements one position forward.\n",
    "   - **Space Complexity**: \\(O(1)\\) per operation, \\(O(n)\\) overall\n",
    "     - Each dequeue operation takes constant space, but the overall space grows linearly with the number of elements.\n",
    "\n",
    "3. **Peek/Front (Getting the front element)**\n",
    "   - **Time Complexity**: \\(O(1)\\)\n",
    "     - Accessing the front element directly.\n",
    "   - **Space Complexity**: \\(O(1)\\)\n",
    "\n",
    "4. **isEmpty (Checking if the queue is empty)**\n",
    "   - **Time Complexity**: \\(O(1)\\)\n",
    "     - Simply checking a condition.\n",
    "   - **Space Complexity**: \\(O(1)\\)\n",
    "\n",
    "5. **isFull (Checking if the queue is full, if applicable)**\n",
    "   - **Time Complexity**: \\(O(1)\\)\n",
    "     - Simply checking a condition (typically not relevant for dynamic lists).\n",
    "   - **Space Complexity**: \\(O(1)\\)\n",
    "\n",
    "#### Circular Queue (Using a Fixed-Size Array)\n",
    "\n",
    "1. **Enqueue (Adding an element to the rear)**\n",
    "   - **Time Complexity**: \\(O(1)\\)\n",
    "     - Adding an element at the end using modulo arithmetic.\n",
    "   - **Space Complexity**: \\(O(1)\\) per operation, \\(O(n)\\) overall\n",
    "     - Each enqueue operation takes constant space, but the overall space is fixed by the array size.\n",
    "\n",
    "2. **Dequeue (Removing an element from the front)**\n",
    "   - **Time Complexity**: \\(O(1)\\)\n",
    "     - Removing the front element and updating the front pointer using modulo arithmetic.\n",
    "   - **Space Complexity**: \\(O(1)\\) per operation, \\(O(n)\\) overall\n",
    "     - Each dequeue operation takes constant space, but the overall space is fixed by the array size.\n",
    "\n",
    "3. **Peek/Front (Getting the front element)**\n",
    "   - **Time Complexity**: \\(O(1)\\)\n",
    "     - Accessing the front element directly.\n",
    "   - **Space Complexity**: \\(O(1)\\)\n",
    "\n",
    "4. **isEmpty (Checking if the queue is empty)**\n",
    "   - **Time Complexity**: \\(O(1)\\)\n",
    "     - Simply checking a condition.\n",
    "   - **Space Complexity**: \\(O(1)\\)\n",
    "\n",
    "5. **isFull (Checking if the queue is full)**\n",
    "   - **Time Complexity**: \\(O(1)\\)\n",
    "     - Simply checking a condition.\n",
    "   - **Space Complexity**: \\(O(1)\\)\n",
    "\n",
    "### Summary Table\n",
    "\n",
    "Here's a concise table summarizing the time and space complexities for both simple and circular queues:\n",
    "\n",
    "| Operation | Simple Queue (Dynamic List) Time Complexity | Circular Queue (Fixed-Size Array) Time Complexity | Space Complexity (Both) |\n",
    "|-----------|---------------------------------------------|--------------------------------------------------|-------------------------|\n",
    "| Enqueue   | \\(O(1)\\) (Amortized)                        | \\(O(1)\\)                                         | \\(O(1)\\) per operation, \\(O(n)\\) overall |\n",
    "| Dequeue   | \\(O(n)\\)                                    | \\(O(1)\\)                                         | \\(O(1)\\) per operation, \\(O(n)\\) overall |\n",
    "| Peek/Front| \\(O(1)\\)                                    | \\(O(1)\\)                                         | \\(O(1)\\)                  |\n",
    "| isEmpty   | \\(O(1)\\)                                    | \\(O(1)\\)                                         | \\(O(1)\\)                  |\n",
    "| isFull    | \\(O(1)\\)                                    | \\(O(1)\\)                                         | \\(O(1)\\)                  |\n"
   ]
  },
  {
   "cell_type": "markdown",
   "id": "585132c9",
   "metadata": {},
   "source": [
    "### Real-Time Examples of Queues:\n",
    "\n",
    "1. **Print Queue**:\n",
    "   - Print jobs are managed in a queue. The first document sent to the printer is printed first (FIFO - First In, First Out).\n",
    "\n",
    "2. **CPU Task Scheduling**:\n",
    "   - Operating systems use queues to manage tasks. Tasks are processed in the order they arrive.\n",
    "\n",
    "3. **Customer Service Lines**:\n",
    "   - Customers in line at a bank, ticket counter, or any service point are served in the order they arrive.\n",
    "\n",
    "4. **Call Center Systems**:\n",
    "   - Incoming calls to customer support are queued and answered in the order they are received.\n",
    "\n",
    "5. **Breadth-First Search (BFS) in Graphs**:\n",
    "   - BFS algorithm uses a queue to explore nodes in a graph level by level.\n",
    "\n",
    "6. **Task Scheduling in Operating Systems**:\n",
    "   - OS uses queues for various task scheduling operations like round-robin scheduling.\n",
    "\n",
    "7. **Network Data Packets**:\n",
    "   - Data packets in network routers and switches are processed in the order they arrive, managed by queues.\n",
    "\n",
    "8. **Restaurant Waiting Lines**:\n",
    "   - Guests are seated in the order they arrive at a busy restaurant.\n",
    "\n",
    "9. **Order Processing Systems**:\n",
    "   - Online orders are processed in the order they are received.\n",
    "\n",
    "10. **Event Handling in GUI Systems**:\n",
    "    - Events (like mouse clicks, key presses) are managed in a queue and handled sequentially."
   ]
  },
  {
   "cell_type": "markdown",
   "id": "dab20886",
   "metadata": {},
   "source": [
    "#### Prepared By,\n",
    "Ahamed Basith"
   ]
  },
  {
   "cell_type": "code",
   "execution_count": null,
   "id": "90902151",
   "metadata": {},
   "outputs": [],
   "source": []
  }
 ],
 "metadata": {
  "kernelspec": {
   "display_name": "Python 3 (ipykernel)",
   "language": "python",
   "name": "python3"
  },
  "language_info": {
   "codemirror_mode": {
    "name": "ipython",
    "version": 3
   },
   "file_extension": ".py",
   "mimetype": "text/x-python",
   "name": "python",
   "nbconvert_exporter": "python",
   "pygments_lexer": "ipython3",
   "version": "3.11.5"
  }
 },
 "nbformat": 4,
 "nbformat_minor": 5
}
