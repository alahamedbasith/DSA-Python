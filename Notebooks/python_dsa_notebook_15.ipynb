{
 "cells": [
  {
   "cell_type": "markdown",
   "id": "018a7632",
   "metadata": {},
   "source": [
    "# 15. Trie Data Structure in python\n",
    "A trie, also known as a prefix tree, is a tree-like data structure used for efficient retrieval of a key in a dataset of strings. It is commonly used for tasks such as autocomplete and spell-checking. Each node in a trie represents a character of a string, and the path from the root to a particular node represents a prefix of the strings stored in the trie.\n",
    "\n",
    "### Key Operations\n",
    "1. **Insertion**: Adding a string to the trie.\n",
    "2. **Search**: Checking if a string exists in the trie.\n",
    "3. **Prefix Search**: Finding all strings in the trie that start with a given prefix.\n",
    "\n",
    "### Structure\n",
    "- **Root**: The topmost node, which is usually empty.\n",
    "- **Children**: Each node has a dictionary of children where the keys are characters and the values are the subsequent nodes."
   ]
  },
  {
   "cell_type": "markdown",
   "id": "c00b77c2",
   "metadata": {},
   "source": [
    "![](https://static.javatpoint.com/ds/images/trie-data-structure.png)"
   ]
  },
  {
   "cell_type": "code",
   "execution_count": 1,
   "id": "30bee979",
   "metadata": {},
   "outputs": [
    {
     "name": "stdout",
     "output_type": "stream",
     "text": [
      "False\n",
      "False\n",
      "Word Removed\n"
     ]
    }
   ],
   "source": [
    "class TrieNode:\n",
    "    def __init__(self):\n",
    "        self.children = {}  # Dictionary to store children nodes\n",
    "        self.IsEnd = False  # Boolean flag to indicate the end of a word\n",
    "        \n",
    "class Trie:\n",
    "    def __init__(self):\n",
    "        self.root = TrieNode()  # Initialize the root of the Trie with an empty TrieNode\n",
    "        \n",
    "    def Add(self, word):\n",
    "        currentnode = self.root  # Start with the root node\n",
    "        \n",
    "        for character in word:  # Iterate over each character in the word\n",
    "            if character not in currentnode.children:  # If character is not already a child of the current node\n",
    "                currentnode.children[character] = TrieNode()  # Create a new TrieNode for the character\n",
    "            \n",
    "            currentnode = currentnode.children[character]  # Move to the child node\n",
    "        \n",
    "        currentnode.IsEnd = True  # Mark the end of the word\n",
    "        \n",
    "    def Search(self, word):\n",
    "        currentnode = self.root  # Start with the root node\n",
    "        \n",
    "        for character in word:  # Iterate over each character in the word\n",
    "            if character not in currentnode.children:  # If character is not found among children nodes\n",
    "                return False  # Return False indicating the word is not present\n",
    "            \n",
    "            currentnode = currentnode.children[character]  # Move to the child node\n",
    "        \n",
    "        if currentnode.IsEnd == True:  # Check if the current node marks the end of the word\n",
    "            return True  # Return True indicating the word is present\n",
    "        \n",
    "        return False  # Return False if the word is not marked as complete\n",
    "    \n",
    "    def Remove(self, word):\n",
    "        if self.Search(word) is not True:  # Check if the word exists in the Trie\n",
    "            print(\"Word not found...Can't remove\")  # Print message if word is not found\n",
    "            return\n",
    "        \n",
    "        currentnode = self.root  # Start with the root node\n",
    "        \n",
    "        stack = []  # Initialize a stack to keep track of nodes\n",
    "        for character in word:  # Iterate over each character in the word\n",
    "            stack.append(currentnode)  # Add the current node to the stack\n",
    "            \n",
    "            currentnode = currentnode.children[character]  # Move to the child node\n",
    "        \n",
    "        currentnode.IsEnd = False  # Unmark the end of the word\n",
    "        \n",
    "        while len(stack) > 0:  # While there are nodes in the stack\n",
    "            node = stack.pop()  # Pop the last node from the stack\n",
    "            char = word[len(stack)]  # Get the corresponding character\n",
    "            \n",
    "            if not node.children[char].IsEnd and not node.children[char].children:  # Check if the node is not the end of another word and has no children\n",
    "                del node.children[char]  # Delete the node\n",
    "            else:\n",
    "                break  # If the node is the end of another word or has children, stop the process\n",
    "                \n",
    "        print(\"Word Removed\")  # Print message indicating the word has been removed\n",
    "        \n",
    "trieds = Trie()  # Create an instance of the Trie\n",
    "trieds.Add(\"GO\")  # Add the word \"GO\" to the Trie\n",
    "trieds.Add(\"GOOD\")  # Add the word \"GOOD\" to the Trie\n",
    "print(trieds.Search(\"GOLD\"))  # Search for the word \"GOLD\" and print the result (False)\n",
    "\n",
    "# Suppose I Add like this\n",
    "trieds.Add(\"GOOD\")  # Add the word \"GOOD\" to the Trie again\n",
    "trieds.Add(\"GO\")  # Add the word \"GO\" to the Trie again\n",
    "\n",
    "print(trieds.Search(\"G\"))  # Search for the word \"G\" and print the result (False)\n",
    "\n",
    "trieds.Remove(\"GOOD\")  # Remove the word \"GOOD\" from the Trie\n"
   ]
  },
  {
   "cell_type": "markdown",
   "id": "f8857c5b",
   "metadata": {},
   "source": [
    "## Applications\n",
    "1. **Autocomplete Systems**: \n",
    "   - Tries are widely used in autocomplete systems. When a user types a prefix, the trie can quickly retrieve all words that start with that prefix.\n",
    "   \n",
    "2. **Spell Checker**:\n",
    "   - Tries can be used to store a dictionary of words and quickly check whether a given word exists in the dictionary, which is useful for spell checking.\n",
    "   \n",
    "3. **IP Routing**:\n",
    "   - In networking, tries (especially a variant called Patricia tries) are used in IP routing tables to efficiently find the longest prefix match.\n",
    "   \n",
    "4. **T9 Predictive Text**:\n",
    "   - Tries are used in predictive text technologies like T9 to predict the word being typed based on the keys pressed.\n",
    "   \n",
    "5. **Genome Sequencing**:\n",
    "   - Tries can be used to store DNA sequences efficiently and allow quick querying of subsequences.\n",
    "   \n",
    "6. **Data Compression**:\n",
    "   - Tries can be used in algorithms like Lempel-Ziv-Welch (LZW) for data compression, where the trie helps in identifying repeated substrings.\n",
    "   \n",
    "7. **Word Games**:\n",
    "   - Games like Boggle or Scrabble can use tries to quickly find valid words from a set of letters.\n",
    "   \n",
    "8. **Longest Common Prefix**:\n",
    "   - Tries can help find the longest common prefix among a set of strings efficiently.\n",
    "   \n",
    "9. **Pattern Matching**:\n",
    "   - Tries can be used in pattern matching algorithms, such as the Aho-Corasick algorithm, to find all occurrences of a set of patterns in a text.\n",
    "   \n",
    "10. **Approximate String Matching**:\n",
    "    - Tries can support approximate string matching, which is useful in applications like DNA sequence alignment and error-tolerant search."
   ]
  },
  {
   "cell_type": "markdown",
   "id": "7a45b91d",
   "metadata": {},
   "source": [
    "#### Prepared By,\n",
    "Ahamed Basith"
   ]
  },
  {
   "cell_type": "code",
   "execution_count": null,
   "id": "098a8c4c",
   "metadata": {},
   "outputs": [],
   "source": []
  }
 ],
 "metadata": {
  "kernelspec": {
   "display_name": "Python 3 (ipykernel)",
   "language": "python",
   "name": "python3"
  },
  "language_info": {
   "codemirror_mode": {
    "name": "ipython",
    "version": 3
   },
   "file_extension": ".py",
   "mimetype": "text/x-python",
   "name": "python",
   "nbconvert_exporter": "python",
   "pygments_lexer": "ipython3",
   "version": "3.11.5"
  }
 },
 "nbformat": 4,
 "nbformat_minor": 5
}
