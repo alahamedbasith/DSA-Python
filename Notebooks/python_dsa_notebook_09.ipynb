{
 "cells": [
  {
   "cell_type": "markdown",
   "id": "718c0cab",
   "metadata": {},
   "source": [
    "# 9. Stack data structure in python\n",
    "A stack is a linear data structure that follows the Last In, First Out (LIFO) principle. In Python, you can implement a stack in several ways:\n",
    "A stack is a linear data structure that follows the Last In, First Out (LIFO) principle. In Python, you can implement a stack in several ways:\n",
    "\n",
    "- **List**: Simple and built-in, but not thread-safe.\n",
    "- **deque**: Provides fast appends and pops from both ends, more efficient than a list for stack operations.\n",
    "- **Custom Class**: Useful for encapsulation and adding custom methods.\n",
    "- **LifoQueue**: Thread-safe stack implementation.\n",
    "\n",
    "Choose the implementation based on your specific needs, especially considering thread-safety and performance."
   ]
  },
  {
   "cell_type": "markdown",
   "id": "8e6ebbbf",
   "metadata": {},
   "source": [
    "### Using a List"
   ]
  },
  {
   "cell_type": "code",
   "execution_count": 1,
   "id": "f02929fd",
   "metadata": {},
   "outputs": [
    {
     "name": "stdout",
     "output_type": "stream",
     "text": [
      "4\n",
      "[1, 2, 3, 4, 5]\n",
      "[1, 2, 3, 4]\n"
     ]
    }
   ],
   "source": [
    "stack = [1,2,3,4]\n",
    "\n",
    "# Accessing elements from stack\n",
    "print(stack[-1])\n",
    "\n",
    "# Insertion\n",
    "stack.append(5)\n",
    "print(stack)\n",
    "\n",
    "# Deletion\n",
    "stack.pop()\n",
    "print(stack)"
   ]
  },
  {
   "cell_type": "markdown",
   "id": "323659da",
   "metadata": {},
   "source": [
    "### Using the collections.deque Class"
   ]
  },
  {
   "cell_type": "code",
   "execution_count": 2,
   "id": "c2d6ac0b",
   "metadata": {},
   "outputs": [
    {
     "data": {
      "text/plain": [
       "deque([1, 2, 3, 4, 5, 6])"
      ]
     },
     "execution_count": 2,
     "metadata": {},
     "output_type": "execute_result"
    }
   ],
   "source": [
    "from collections import deque\n",
    "\n",
    "# deque mostly used as stack\n",
    "stack = deque([1,2,3,4,5])\n",
    "\n",
    "stack.append(6)\n",
    "\n",
    "stack"
   ]
  },
  {
   "cell_type": "code",
   "execution_count": 3,
   "id": "0522468d",
   "metadata": {},
   "outputs": [
    {
     "name": "stdout",
     "output_type": "stream",
     "text": [
      "deque(['a', 'b'])\n",
      "b\n",
      "a\n",
      "deque([])\n"
     ]
    }
   ],
   "source": [
    "# Another Example\n",
    "\n",
    "from collections import deque\n",
    "\n",
    "stack = deque()\n",
    "\n",
    "# Push an element onto the stack\n",
    "stack.append('a')\n",
    "stack.append('b')\n",
    "print(stack)\n",
    "\n",
    "# Pop an element from the stack\n",
    "print(stack.pop())  # Output: 'b'\n",
    "print(stack.pop())  # Output: 'a'\n",
    "\n",
    "print(stack)"
   ]
  },
  {
   "cell_type": "markdown",
   "id": "3c9a67b9",
   "metadata": {},
   "source": [
    "### Creating a Stack Class"
   ]
  },
  {
   "cell_type": "code",
   "execution_count": 4,
   "id": "343a4ee3",
   "metadata": {},
   "outputs": [
    {
     "name": "stdout",
     "output_type": "stream",
     "text": [
      "b\n",
      "a\n",
      "['a']\n"
     ]
    }
   ],
   "source": [
    "class Stack:\n",
    "    def __init__(self):\n",
    "        self.items = []\n",
    "\n",
    "    def is_empty(self):\n",
    "        return len(self.items) == 0\n",
    "\n",
    "    def push(self, item):\n",
    "        self.items.append(item)\n",
    "\n",
    "    def pop(self):\n",
    "        if not self.is_empty():\n",
    "            return self.items.pop()\n",
    "        raise IndexError(\"pop from empty stack\")\n",
    "\n",
    "    def peek(self):\n",
    "        if not self.is_empty():\n",
    "            return self.items[-1]\n",
    "        raise IndexError(\"peek from empty stack\")\n",
    "    \n",
    "    def display(self):\n",
    "        return self.items\n",
    "\n",
    "# Usage\n",
    "stack = Stack()\n",
    "stack.push('a')\n",
    "stack.push('b')\n",
    "print(stack.pop())  # Output: 'b'\n",
    "print(stack.peek())  # Output: 'a'\n",
    "print(stack.display())"
   ]
  },
  {
   "cell_type": "markdown",
   "id": "8993a656",
   "metadata": {},
   "source": [
    "### Using the queue.LifoQueue Class"
   ]
  },
  {
   "cell_type": "code",
   "execution_count": 5,
   "id": "adeed6fc",
   "metadata": {},
   "outputs": [
    {
     "name": "stdout",
     "output_type": "stream",
     "text": [
      "b\n",
      "a\n"
     ]
    }
   ],
   "source": [
    "from queue import LifoQueue\n",
    "\n",
    "stack = LifoQueue()\n",
    "\n",
    "# Push an element onto the stack\n",
    "stack.put('a')\n",
    "stack.put('b')\n",
    "\n",
    "# Pop an element from the stack\n",
    "print(stack.get())  # Output: 'b'\n",
    "print(stack.get())  # Output: 'a'"
   ]
  },
  {
   "cell_type": "markdown",
   "id": "72178819",
   "metadata": {},
   "source": [
    "Stack overflow and underflow are two common issues that can occur when working with stacks.\n",
    "\n",
    "### Stack Overflow\n",
    "\n",
    "**Stack overflow** occurs when you try to push an element onto a stack that is already full. This is typically relevant in environments where the stack has a fixed size. In Python, if you use a list or `deque`, the stack can grow dynamically as long as there is available memory, so stack overflow is less of a concern. However, you can simulate it by imposing a limit on the stack size.\n",
    "\n",
    "### Stack Underflow\n",
    "\n",
    "**Stack underflow** occurs when you try to pop an element from an empty stack. This is a common issue that needs to be handled gracefully to prevent runtime errors.\n"
   ]
  },
  {
   "cell_type": "markdown",
   "id": "3a9ad4c6",
   "metadata": {},
   "source": [
    "## Time and Space Complexity for Stack Operations\n",
    "\n",
    "When discussing the time and space complexity of stack operations, we'll consider the most common implementation: a stack using a dynamic array (Python list). Here are the complexities for insertion (push), deletion (pop), and access (peek).\n",
    "\n",
    "#### 1. Insertion (Push)\n",
    "\n",
    "- **Time Complexity**: \\(O(1)\\)\n",
    "  - Pushing an element onto the stack involves adding an element to the end of the list, which is an \\(O(1)\\) operation in Python (amortized time complexity due to occasional resizing).\n",
    "- **Space Complexity**: \\(O(1)\\) for each push operation, although the overall space complexity grows linearly with the number of elements, \\(O(n)\\), where \\(n\\) is the number of elements in the stack.\n",
    "\n",
    "#### 2. Deletion (Pop)\n",
    "\n",
    "- **Time Complexity**: \\(O(1)\\)\n",
    "  - Popping an element from the stack involves removing the last element of the list, which is an \\(O(1)\\) operation.\n",
    "- **Space Complexity**: \\(O(1)\\) for each pop operation, but the overall space complexity reduces as elements are removed.\n",
    "\n",
    "#### 3. Access (Peek)\n",
    "\n",
    "- **Time Complexity**: \\(O(1)\\)\n",
    "  - Peeking at the top element of the stack involves accessing the last element of the list, which is an \\(O(1)\\) operation.\n",
    "- **Space Complexity**: \\(O(1)\\)\n",
    "\n",
    "#### 4. Search\n",
    "\n",
    "- **Time Complexity**: \\(O(n)\\)\n",
    "  - Searching for an element in a stack involves potentially checking every element, resulting in \\(O(n)\\) time complexity.\n",
    "- **Space Complexity**: \\(O(1)\\)\n",
    "  - The space complexity for searching does not change based on the size of the stack; it remains \\(O(1)\\).\n",
    "\n",
    "### Summary\n",
    "\n",
    "Here’s a concise table summarizing the time and space complexities:\n",
    "\n",
    "| Operation | Time Complexity | Space Complexity |\n",
    "|-----------|------------------|------------------|\n",
    "| Push      | \\(O(1)\\)         | \\(O(1)\\) per operation, \\(O(n)\\) overall |\n",
    "| Pop       | \\(O(1)\\)         | \\(O(1)\\) |\n",
    "| Peek      | \\(O(1)\\)         | \\(O(1)\\) |\n",
    "| Search    | \\(O(n)\\)         | \\(O(1)\\) |\n",
    "\n"
   ]
  },
  {
   "cell_type": "markdown",
   "id": "d64a2419",
   "metadata": {},
   "source": [
    "### Real-Time Examples of Stacks:\n",
    "\n",
    "1. **Browser History**:\n",
    "   - Browsers use a stack to keep track of visited websites. When you click the back button, the most recently visited page is popped from the stack.\n",
    "\n",
    "2. **Undo Mechanism in Text Editors**:\n",
    "   - Text editors like Microsoft Word use stacks to keep track of the sequence of actions. The last action can be undone by popping it from the stack.\n",
    "\n",
    "3. **Function Call Stack**:\n",
    "   - Programming languages use a call stack to keep track of active subroutines or functions. The most recently called function is executed and completed before the previous one resumes.\n",
    "\n",
    "4. **Expression Evaluation**:\n",
    "   - In compilers, stacks are used to evaluate expressions (infix, postfix, and prefix notations).\n",
    "\n",
    "5. **Syntax Parsing**:\n",
    "   - Compilers use stacks to parse syntax of expressions, program blocks, and nested structures.\n",
    "\n",
    "6. **Backtracking Algorithms**:\n",
    "   - Algorithms that involve backtracking (e.g., solving mazes, puzzle games like Sudoku) use stacks to remember previous steps.\n",
    "\n",
    "7. **Parenthesis Matching**:\n",
    "   - Checking for balanced parentheses in expressions involves using a stack to track opening brackets.\n",
    "\n",
    "8. **Recursive Algorithms**:\n",
    "   - Recursive function calls are managed using stacks. Each recursive call is pushed onto the stack, and pops off when the call is resolved.\n",
    "\n",
    "9. **Undo/Redo Feature in Software Applications**:\n",
    "   - Many applications use stacks to implement undo/redo functionality, allowing users to revert and reapply actions.\n",
    "\n",
    "10. **Tower of Hanoi**:\n",
    "   - The algorithm for solving the Tower of Hanoi puzzle uses stacks to hold the disks during the move process."
   ]
  },
  {
   "cell_type": "markdown",
   "id": "ec1cd6cc",
   "metadata": {},
   "source": [
    "#### Prepared By,\n",
    "Ahamed Basith"
   ]
  }
 ],
 "metadata": {
  "kernelspec": {
   "display_name": "Python 3 (ipykernel)",
   "language": "python",
   "name": "python3"
  },
  "language_info": {
   "codemirror_mode": {
    "name": "ipython",
    "version": 3
   },
   "file_extension": ".py",
   "mimetype": "text/x-python",
   "name": "python",
   "nbconvert_exporter": "python",
   "pygments_lexer": "ipython3",
   "version": "3.11.5"
  }
 },
 "nbformat": 4,
 "nbformat_minor": 5
}
