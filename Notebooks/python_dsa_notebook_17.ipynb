{
 "cells": [
  {
   "cell_type": "markdown",
   "id": "a64c3437",
   "metadata": {},
   "source": [
    "# 17. Algorithms in python\n",
    "## 1.Sliding window algorithm\n",
    "The sliding window algorithm is a popular technique used to solve various problems in computer science, especially those involving arrays or lists. It involves moving a window of a fixed size over the data structure to analyze or compute something efficiently.\n",
    "\n",
    "Here is an example of how the sliding window algorithm can be implemented in Python. We will solve a classic problem: finding the maximum sum of a subarray with a fixed size.\n",
    "\n",
    "![](https://media.geeksforgeeks.org/wp-content/uploads/20240306112450/sliding-window-technique-2.webp)\n",
    "\n",
    "### Problem Statement\n",
    "Minimum size subarray (Leetcode-209)\n",
    "\n",
    "### Sliding Window Approach\n",
    "\n",
    "1. **Initialize** the sum of the first window.\n",
    "2. **Slide** the window from start to end, updating the sum by adding the next element in the array and subtracting the first element of the previous window.\n",
    "3. Keep track of the minimum sum encountered during the sliding process.\n",
    "\n",
    "The sliding window algorithm is versatile and can be applied to various real-world problems across different domains. Here are some applications with example code to illustrate how the sliding window technique can be utilized:\n",
    "\n",
    "### 1. Maximum Sum Subarray of Size K\n",
    "As previously demonstrated, this is used to find the maximum sum of a subarray with a fixed size. This can be useful in financial data analysis to determine the period with the highest revenue.\n",
    "\n",
    "### 2. Longest Substring Without Repeating Characters\n",
    "Finding the length of the longest substring without repeating characters in a given string is a common problem, often seen in coding interviews.\n",
    "\n",
    "### 3. Minimum Size Subarray Sum\n",
    "Given an array of positive integers and a positive integer `s`, find the minimal length of a contiguous subarray of which the sum is at least `s`. If there isn't one, return 0 instead.\n",
    "\n",
    "\n",
    "### 4. Fixed-Size Sliding Window for Moving Average\n",
    "A moving average is commonly used in time series analysis to smooth out short-term fluctuations and highlight longer-term trends or cycles.\n",
    "\n",
    "\n",
    "### 5. Maximum of All Subarrays of Size K\n",
    "Finding the maximum value in each subarray of size `k` can be useful for identifying trends in financial markets, temperature readings, and other time-series data.\n",
    "\n",
    "### Summary\n",
    "The sliding window technique can be applied to various problems, including those involving arrays, strings, and time-series data. By maintaining a dynamic window of elements and efficiently updating the window contents, sliding window algorithms can significantly reduce the complexity of problems that would otherwise require more computationally expensive solutions."
   ]
  },
  {
   "cell_type": "code",
   "execution_count": 1,
   "id": "8c972fcd",
   "metadata": {},
   "outputs": [
    {
     "name": "stdout",
     "output_type": "stream",
     "text": [
      "Target found,the minimum value for sum count is 2\n"
     ]
    }
   ],
   "source": [
    "# Initailize the pointers for windows\n",
    "\n",
    "nums = [2,3,1,2,4,3]\n",
    "target = 7\n",
    "\n",
    "left = 0\n",
    "right = 0\n",
    "minimum = 1000000000000 # Assume some large number\n",
    "\n",
    "subsum = 0\n",
    "\n",
    "# Right pointer condition\n",
    "while right < len(nums):\n",
    "    subsum += nums[right]\n",
    "    \n",
    "    # subsum greater or equal to target \n",
    "    while subsum >= target:\n",
    "        minimum = min(minimum,right-left+1) # right-left+1 this for calculating window size\n",
    "        subsum -= nums[left]\n",
    "        left += 1\n",
    "        \n",
    "    right += 1\n",
    "    \n",
    "if minimum == 1000000000000:\n",
    "    print(\"No target found\")\n",
    "else:\n",
    "    print(f\"Target found,the minimum value for sum count is {minimum}\")"
   ]
  },
  {
   "cell_type": "markdown",
   "id": "e918bb66",
   "metadata": {},
   "source": [
    "## 2.Backtracking algorithm in python\n",
    "Backtracking is a general algorithmic technique that considers searching every possible combination in order to solve computational problems. This method incrementally builds candidates to the solutions and abandons a candidate (\"backtracks\") as soon as it determines that the candidate cannot lead to a valid solution.\n",
    "\n",
    "![](https://media.geeksforgeeks.org/wp-content/uploads/20231010124142/backtracking.png)\n",
    "\n",
    "### N-Queen Problem\n",
    "![](https://media.geeksforgeeks.org/wp-content/uploads/20230814111826/Backtracking.png)"
   ]
  },
  {
   "cell_type": "markdown",
   "id": "59ba719e",
   "metadata": {},
   "source": [
    "### Four Steps in backtracking\n",
    "1. Choice (Gather all possible choices)\n",
    "2. Explore (Explore the choices and implement)\n",
    "3. Backtracking (Does not meet required result apply backtracking)\n",
    "4. Base case (Backtracking stoping condition i.e queen does not travel outside of chess board)"
   ]
  },
  {
   "cell_type": "code",
   "execution_count": 2,
   "id": "1640ac8e",
   "metadata": {},
   "outputs": [
    {
     "name": "stdout",
     "output_type": "stream",
     "text": [
      "0 0 1 0 \n",
      "1 0 0 0 \n",
      "0 0 0 1 \n",
      "0 1 0 0 \n"
     ]
    }
   ],
   "source": [
    "def Is_Safe(board, row, col, N):\n",
    "    # Check if it's safe to place a queen at board[row][col]\n",
    "\n",
    "    # Check for queens in the same row (to the left)\n",
    "    i = col\n",
    "    while i >= 0:\n",
    "        if board[row][i] == 1:\n",
    "            return False  # There's a queen in the same row\n",
    "        i -= 1\n",
    "\n",
    "    # Check for queens in the upper diagonal (to the left)\n",
    "    i = col\n",
    "    j = row\n",
    "    while i >= 0 and j >= 0:\n",
    "        if board[j][i] == 1:\n",
    "            return False  # There's a queen in the upper diagonal\n",
    "        i -= 1\n",
    "        j -= 1\n",
    "\n",
    "    # Check for queens in the lower diagonal (to the left)\n",
    "    i = col\n",
    "    j = row\n",
    "    while i >= 0 and j < N:\n",
    "        if board[j][i] == 1:\n",
    "            return False  # There's a queen in the lower diagonal\n",
    "        i -= 1\n",
    "        j += 1\n",
    "    \n",
    "    return True  # No queens threaten this position\n",
    "\n",
    "def solve_n_queen(board, col, N):\n",
    "    # Base condition: if all queens are placed, return True\n",
    "    if col >= N:\n",
    "        return True  # All queens are successfully placed\n",
    "\n",
    "    for row in range(N):\n",
    "        if Is_Safe(board, row, col, N):  # Check if it's safe to place a queen at board[row][col]\n",
    "            board[row][col] = 1  # Place the queen\n",
    "            \n",
    "            # Recursively try to place the rest of the queens\n",
    "            if solve_n_queen(board, col + 1, N):\n",
    "                return True  # Found a valid placement\n",
    "            \n",
    "            # Backtrack: remove the queen and try the next position\n",
    "            board[row][col] = 0\n",
    "    \n",
    "    return False  # No valid placement found for this column\n",
    "\n",
    "N = 4  # Size of the board\n",
    "board = [[0 for i in range(N)] for j in range(N)]  # Initialize the board with all zeros\n",
    "\n",
    "solution = solve_n_queen(board, 0, N)  # Start solving the problem from the first column\n",
    "\n",
    "if solution:\n",
    "    for i in range(N):\n",
    "        for j in range(N):\n",
    "            print(board[i][j], end=\" \")  # Print each cell in the row\n",
    "        print()  # Newline after each row\n",
    "else:\n",
    "    print(\"Solution not found\")  # No solution exists for the given board size"
   ]
  },
  {
   "cell_type": "markdown",
   "id": "00b3bf8e",
   "metadata": {},
   "source": [
    "## 3.Greedy algorithm in python\n",
    "\n",
    "A greedy algorithm is a problem-solving approach that makes the locally optimal choice at each stage with the hope of finding a global optimum. In other words, it follows a problem-solving heuristic of making the locally optimal choice at each stage with the goal of finding a global optimum.\n",
    "\n",
    "To illustrate a greedy algorithm in Python, let's use the classic example of the **coin change problem**. The problem is to find the minimum number of coins needed to make a certain amount of change from a given set of denominations.\n",
    "\n",
    "### Greedy Algorithm is only applicable for following problem\n",
    "\n",
    "- The problem should be subproblem\n",
    "- The problem should have greedy choice\n",
    "- No backtracking is applied to any problem\n",
    "- Proof of correctness (Think the problem is applicable for all steps)\n",
    "\n",
    "\n",
    "### Coin Change Problem\n",
    "\n",
    "Given a target amount and a list of coin denominations, the goal is to minimize the number of coins used to make up that amount."
   ]
  },
  {
   "cell_type": "code",
   "execution_count": 3,
   "id": "b675411a",
   "metadata": {},
   "outputs": [
    {
     "name": "stdout",
     "output_type": "stream",
     "text": [
      "Cannot Make Change\n"
     ]
    }
   ],
   "source": [
    "# Define the target amount and list of coin denominations\n",
    "amount = 8\n",
    "denomination = [5, 10, 20]\n",
    "\n",
    "# Sort the list of denominations in descending order\n",
    "denomination.sort(reverse=True)\n",
    "\n",
    "# Initialize a counter to keep track of the number of coins used\n",
    "count = 0\n",
    "\n",
    "# Iterate over each coin denomination\n",
    "for coin in denomination:\n",
    "    # Add the number of coins of the current denomination that can be used\n",
    "    count += amount // coin\n",
    "    # Update the remaining amount to be made by taking the modulus of the current denomination\n",
    "    amount = amount % coin\n",
    "\n",
    "# Check if the remaining amount is zero (i.e., the exact amount can be made)\n",
    "if amount == 0:\n",
    "    # Print the total number of coins used\n",
    "    print(count)\n",
    "else:\n",
    "    # If the remaining amount is not zero, print a message indicating change cannot be made\n",
    "    print(\"Cannot Make Change\")\n"
   ]
  },
  {
   "cell_type": "markdown",
   "id": "bb1e077b",
   "metadata": {},
   "source": [
    "\n",
    "### Conclusion\n",
    "\n",
    "Greedy algorithms can be very effective for certain types of problems, particularly those where a locally optimal strategy also leads to a globally optimal solution. However, it's important to analyze the problem to ensure that the greedy approach will yield the correct result."
   ]
  },
  {
   "cell_type": "markdown",
   "id": "27b8dc5f",
   "metadata": {},
   "source": [
    "#### Prepared By,\n",
    "Ahamed Basith"
   ]
  },
  {
   "cell_type": "code",
   "execution_count": null,
   "id": "60bf86a3",
   "metadata": {},
   "outputs": [],
   "source": []
  }
 ],
 "metadata": {
  "kernelspec": {
   "display_name": "Python 3 (ipykernel)",
   "language": "python",
   "name": "python3"
  },
  "language_info": {
   "codemirror_mode": {
    "name": "ipython",
    "version": 3
   },
   "file_extension": ".py",
   "mimetype": "text/x-python",
   "name": "python",
   "nbconvert_exporter": "python",
   "pygments_lexer": "ipython3",
   "version": "3.11.5"
  }
 },
 "nbformat": 4,
 "nbformat_minor": 5
}
