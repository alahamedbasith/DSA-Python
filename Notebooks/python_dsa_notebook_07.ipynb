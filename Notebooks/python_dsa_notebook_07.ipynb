{
 "cells": [
  {
   "cell_type": "markdown",
   "id": "accf7cff",
   "metadata": {},
   "source": [
    "# 7.Two Pointer Algorithm\n",
    "The two-pointer technique is a popular algorithmic strategy that uses two pointers to traverse the data structure, typically an array or a string. The pointers can move towards each other, away from each other, or in the same direction depending on the problem being solved. This technique is especially useful in problems involving sorting, searching, and partitioning.\n",
    "\n",
    "### Common Use Cases\n",
    "1. **Finding Pairs in a Sorted Array**: Given a sorted array, find pairs that sum up to a specific target.\n",
    "2. **Removing Duplicates**: In a sorted array, remove duplicates in-place.\n",
    "3. **Palindrome Checking**: Verify if a string is a palindrome.\n",
    "4. **Merging Two Sorted Arrays**: Merge two sorted arrays into one sorted array.(Already Discussed)\n",
    "5. **Partitioning**: Partition an array around a pivot element.(Already Discussed)\n",
    "\n",
    "### Conclusion\n",
    "\n",
    "The two-pointer technique is a powerful tool for optimizing problems involving arrays or strings. By visualizing the movement of pointers and understanding the underlying logic, we can apply this technique to a variety of problems efficiently."
   ]
  },
  {
   "cell_type": "markdown",
   "id": "a6e2f496",
   "metadata": {},
   "source": [
    "### Why two pointer algorithm needed?\n",
    "- More efficient compare than traditional method.\n",
    "- Time Complexity reduces to o(n).\n",
    "- Useful for optimization of codes."
   ]
  },
  {
   "cell_type": "markdown",
   "id": "e6c9eb88",
   "metadata": {},
   "source": [
    "## 1.Finding Pairs in a Sorted Array"
   ]
  },
  {
   "cell_type": "markdown",
   "id": "183607df",
   "metadata": {},
   "source": [
    "### Traditional Method"
   ]
  },
  {
   "cell_type": "code",
   "execution_count": 1,
   "id": "d4b61d5d",
   "metadata": {},
   "outputs": [
    {
     "name": "stdout",
     "output_type": "stream",
     "text": [
      "Index:(3,4)\n",
      "Elements are 4 and 6\n",
      "Index:(4,3)\n",
      "Elements are 6 and 4\n"
     ]
    }
   ],
   "source": [
    "arr = [1, 2, 3, 4, 6]\n",
    "target = 10\n",
    "\n",
    "flag = False # Assume flag for ensure the combination not found\n",
    "\n",
    "for i in range(0,len(arr)): # Take first element of the array\n",
    "    for j in range(1,len(arr)): # Take second element of the array\n",
    "        \n",
    "        if arr[i]+arr[j] == target: # Check One by One\n",
    "            flag = True\n",
    "            print(f'Index:({i},{j})')\n",
    "            print(f'Elements are {arr[i]} and {arr[j]}')\n",
    "            break\n",
    "            \n",
    "if flag == False:\n",
    "    print(\"No Combination Found\")"
   ]
  },
  {
   "cell_type": "markdown",
   "id": "9a031390",
   "metadata": {},
   "source": [
    "The traditional method is not efficient.So,The two pointer algorithm comes into the picture.\n",
    "\n",
    "It also reduces the time complexity from O(n^2) to O(n)"
   ]
  },
  {
   "cell_type": "markdown",
   "id": "c0a754d1",
   "metadata": {},
   "source": [
    "### Two Pointer Approach\n",
    "Two pointer approach have two way based on the requirement of the problem.\n",
    "- Same Direction\n",
    "- Opposite Direction(Mostly Used)\n",
    "\n",
    "We are use opp direction for entire problem"
   ]
  },
  {
   "cell_type": "markdown",
   "id": "69afa1a7",
   "metadata": {},
   "source": [
    "Requirements:\n",
    "   - Array should be sorted.(Optional for some problems)\n",
    "   \n",
    "Conditions:\n",
    "   - left pointer does not cross right pointer.so,l!=r\n",
    "   - l < r (Always l is smaller than r)"
   ]
  },
  {
   "cell_type": "markdown",
   "id": "205d4676",
   "metadata": {},
   "source": [
    "### CASE 01:\n",
    "\n",
    "\n",
    "Given array: [1, 2, 3, 4, 6]\n",
    "Target: 10\n",
    "\n",
    "Initially, the left pointer (`l`) is at the start of the array (index 0) and the right pointer (`r`) is at the end of the array (index 4).\n",
    "\n",
    "```\n",
    "[1, 2, 3, 4, 6]\n",
    " l           r\n",
    "```\n",
    "\n",
    "1. **First Iteration**:\n",
    "   - The sum of the values at the left and right pointers is calculated:\n",
    "     - `arr[l] + arr[r] = 1 + 6 = 7`\n",
    "   - Since `7` is less than the target `10`, we move the left pointer to the right to increase the sum.\n",
    "\n",
    "```\n",
    "[1, 2, 3, 4, 6]\n",
    "    l        r\n",
    "```\n",
    "\n",
    "2. **Second Iteration**:\n",
    "   - The sum of the values at the left and right pointers is calculated:\n",
    "     - `arr[l] + arr[r] = 2 + 6 = 8`\n",
    "   - Since `8` is less than the target `10`, we move the left pointer to the right again.\n",
    "\n",
    "```\n",
    "[1, 2, 3, 4, 6]\n",
    "       l     r\n",
    "```\n",
    "\n",
    "3. **Third Iteration**:\n",
    "   - The sum of the values at the left and right pointers is calculated:\n",
    "     - `arr[l] + arr[r] = 3 + 6 = 9`\n",
    "   - Since `9` is less than the target `10`, we move the left pointer to the right again.\n",
    "\n",
    "```\n",
    "[1, 2, 3, 4, 6]\n",
    "          l  r\n",
    "```\n",
    "\n",
    "4. **Fourth Iteration**:\n",
    "   - The sum of the values at the left and right pointers is calculated:\n",
    "     - `arr[l] + arr[r] = 4 + 6 = 10`\n",
    "   - Since `10` is equal to the target `10`, we have found the combination.\n",
    "\n",
    "```\n",
    "[1, 2, 3, 4, 6]\n",
    "          l  r\n",
    "```\n",
    "\n",
    "Here, the combination is found with the indices `(3, 4)` and elements `4` and `6`. The loop breaks, and the result is printed:\n",
    "\n",
    "```\n",
    "Index:(3,4)\n",
    "Elements are 4 and 6\n",
    "```"
   ]
  },
  {
   "cell_type": "markdown",
   "id": "8f7b6ab4",
   "metadata": {},
   "source": [
    "### CASE 02:\n",
    "\n",
    "\n",
    "Given array: [1, 2, 3, 4, 6]\n",
    "Target: 5\n",
    "\n",
    "Initially, the left pointer (`l`) is at the start of the array (index 0) and the right pointer (`r`) is at the end of the array (index 4).\n",
    "\n",
    "```\n",
    "[1, 2, 3, 4, 6]\n",
    " l           r\n",
    "```\n",
    "\n",
    "1. **First Iteration**:\n",
    "   - The sum of the values at the left and right pointers is calculated:\n",
    "     - `arr[l] + arr[r] = 1 + 6 = 7`\n",
    "   - Since `7` is greater than the target `5`, we move the right pointer to the left to decrease the sum.\n",
    "\n",
    "```\n",
    "[1, 2, 3, 4, 6]\n",
    " l        r\n",
    "```\n",
    "\n",
    "2. **Second Iteration**:\n",
    "   - The sum of the values at the left and right pointers is calculated:\n",
    "     - `arr[l] + arr[r] = 1 + 4 = 5`\n",
    "   - Since `5` is equal to the target `5`, we have found the combination.\n",
    "\n",
    "```\n",
    "[1, 2, 3, 4, 6]\n",
    " l        r\n",
    "```\n",
    "\n",
    "Here, the combination is found with the indices `(0, 3)` and elements `1` and `4`. The loop breaks, and the result is printed:\n",
    "\n",
    "```\n",
    "Index:(0,3)\n",
    "Elements are 1 and 4\n",
    "\n",
    "```"
   ]
  },
  {
   "cell_type": "markdown",
   "id": "ff3d13d1",
   "metadata": {},
   "source": [
    "### CASE 03:\n",
    "\n",
    "Given array: [1, 2, 3, 4, 6]\n",
    "Target: 6\n",
    "\n",
    "Initially, the left pointer (`l`) is at the start of the array (index 0) and the right pointer (`r`) is at the end of the array (index 4).\n",
    "\n",
    "```\n",
    "[1, 2, 3, 4, 6]\n",
    " l           r\n",
    "```\n",
    "\n",
    "1. **First Iteration**:\n",
    "   - The sum of the values at the left and right pointers is calculated:\n",
    "     - `arr[l] + arr[r] = 1 + 6 = 7`\n",
    "   - Since `7` is greater than the target `6`, we move the right pointer to the left to decrease the sum.\n",
    "\n",
    "```\n",
    "[1, 2, 3, 4, 6]\n",
    " l        r\n",
    "```\n",
    "\n",
    "2. **Second Iteration**:\n",
    "   - The sum of the values at the left and right pointers is calculated:\n",
    "     - `arr[l] + arr[r] = 1 + 4 = 5`\n",
    "   - Since `5` is less than the target `6`, we move the left pointer to the right to increase the sum.\n",
    "\n",
    "```\n",
    "[1, 2, 3, 4, 6]\n",
    "    l     r\n",
    "```\n",
    "\n",
    "3. **Third Iteration**:\n",
    "   - The sum of the values at the left and right pointers is calculated:\n",
    "     - `arr[l] + arr[r] = 2 + 4 = 6`\n",
    "   - Since `6` is equal to the target `6`, we have found the combination.\n",
    "\n",
    "```\n",
    "[1, 2, 3, 4, 6]\n",
    "    l     r\n",
    "```\n",
    "\n",
    "Here, the combination is found with the indices `(1, 3)` and elements `2` and `4`. The loop breaks, and the result is printed:\n",
    "\n",
    "```\n",
    "Index:(1,3)\n",
    "Elements are 2 and 4\n",
    "```"
   ]
  },
  {
   "cell_type": "code",
   "execution_count": 2,
   "id": "08c310eb",
   "metadata": {},
   "outputs": [
    {
     "name": "stdout",
     "output_type": "stream",
     "text": [
      "Index:(3,4)\n",
      "Elements are 4 and 6\n"
     ]
    }
   ],
   "source": [
    "# Using Two Pointer Algorithm\n",
    "\n",
    "arr = [1,2,3,4,6]\n",
    "target = 10\n",
    "\n",
    "# Initialize the pointers\n",
    "\n",
    "l = 0  # Left Pointer\n",
    "r = len(arr)-1  # Right Pointer\n",
    "\n",
    "# Loop stops when the two pointer hits\n",
    "while l<r:\n",
    "    actual_value = arr[l] + arr[r]\n",
    "    \n",
    "    if(actual_value == target):\n",
    "        print(f'Index:({l},{r})')\n",
    "        print(f'Elements are {arr[l]} and {arr[r]}')\n",
    "        break\n",
    "    elif(actual_value < target):\n",
    "        l+=1\n",
    "    elif(actual_value > target):\n",
    "        r+=1\n"
   ]
  },
  {
   "cell_type": "markdown",
   "id": "6d668d63",
   "metadata": {},
   "source": [
    "### Removing duplicates using two pointer python"
   ]
  },
  {
   "cell_type": "code",
   "execution_count": 3,
   "id": "d877fcb0",
   "metadata": {},
   "outputs": [
    {
     "name": "stdout",
     "output_type": "stream",
     "text": [
      "[1, 2, 3, 4, 5]\n"
     ]
    }
   ],
   "source": [
    "arr = [1, 1, 2, 2, 3, 4, 4, 5]\n",
    "\n",
    "# Initialize two pointers\n",
    "i = 1\n",
    "j = 1\n",
    "\n",
    "while i < len(arr):\n",
    "    if arr[i] != arr[j - 1]:\n",
    "        arr[j] = arr[i]\n",
    "        j += 1\n",
    "    i += 1\n",
    "\n",
    "# The array without duplicates\n",
    "result = arr[:j]\n",
    "print(result)\n"
   ]
  },
  {
   "cell_type": "code",
   "execution_count": 4,
   "id": "56e5a1ed",
   "metadata": {},
   "outputs": [
    {
     "name": "stdout",
     "output_type": "stream",
     "text": [
      "True\n",
      "False\n"
     ]
    }
   ],
   "source": [
    "def is_palindrome(s):\n",
    "    # Convert the string to lowercase and remove non-alphanumeric characters\n",
    "    s = ''.join(c.lower() for c in s if c.isalnum())\n",
    "    \n",
    "    # Initialize left and right pointers\n",
    "    left, right = 0, len(s) - 1\n",
    "    \n",
    "    # Iterate until the pointers meet\n",
    "    while left < right:\n",
    "        # If characters at left and right pointers are not the same, it's not a palindrome\n",
    "        if s[left] != s[right]:\n",
    "            return False\n",
    "        # Move the pointers towards the center\n",
    "        left += 1\n",
    "        right -= 1\n",
    "    \n",
    "    # If the loop completes without returning False, the string is a palindrome\n",
    "    return True\n",
    "\n",
    "# Example usage:\n",
    "string1 = \"A man, a plan, a canal, Panama!\"\n",
    "string2 = \"nasreen\"\n",
    "\n",
    "print(is_palindrome(string1))  # Output: True\n",
    "print(is_palindrome(string2))  # Output: True"
   ]
  },
  {
   "cell_type": "markdown",
   "id": "48445ac0",
   "metadata": {},
   "source": [
    "#### Prepared By,\n",
    "Ahamed Basith"
   ]
  }
 ],
 "metadata": {
  "kernelspec": {
   "display_name": "Python 3 (ipykernel)",
   "language": "python",
   "name": "python3"
  },
  "language_info": {
   "codemirror_mode": {
    "name": "ipython",
    "version": 3
   },
   "file_extension": ".py",
   "mimetype": "text/x-python",
   "name": "python",
   "nbconvert_exporter": "python",
   "pygments_lexer": "ipython3",
   "version": "3.11.5"
  }
 },
 "nbformat": 4,
 "nbformat_minor": 5
}
